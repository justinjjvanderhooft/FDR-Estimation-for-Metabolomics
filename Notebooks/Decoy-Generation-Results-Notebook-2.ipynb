{
 "cells": [
  {
   "cell_type": "markdown",
   "metadata": {},
   "source": [
    "# Decoy Generation Results"
   ]
  },
  {
   "cell_type": "markdown",
   "metadata": {},
   "source": [
    "Here, we will re-produce the results from [here](file:///C:/Users/kia/Downloads/Metabolomics%20Internship/Papers/Converting%20from%20proteomics%20to%20metabolomics.pdf). In particular, we will produce the QQ-plots of q-values for FDR assessment, and histograms of estimated p-values for null model evaluation."
   ]
  },
  {
   "cell_type": "markdown",
   "metadata": {},
   "source": [
    "## Setup"
   ]
  },
  {
   "cell_type": "code",
   "execution_count": 2,
   "metadata": {},
   "outputs": [],
   "source": [
    "from matchms import Scores, Spectrum\n",
    "from matchms.similarity import CosineGreedy\n",
    "import numpy as np\n",
    "import pandas as pd\n",
    "import matplotlib.pyplot as plt"
   ]
  },
  {
   "cell_type": "markdown",
   "metadata": {},
   "source": [
    "## Preliminary Functions"
   ]
  },
  {
   "cell_type": "code",
   "execution_count": 39,
   "metadata": {},
   "outputs": [],
   "source": [
    "#Preliminary functions required for reproducing results\n",
    "\n",
    "\n",
    "#Function that produces an array of cosine scores (based on the greedy algorithm from matchms) from reference and query spectra\n",
    "\n",
    "def scores_array(query_spectra, reference_spectra, cos_tolerance = 0.1):\n",
    "    \n",
    "    cosine_greedy = CosineGreedy(tolerance = cos_tolerance)\n",
    "    scores = []\n",
    "    for query in query_spectra:\n",
    "        \n",
    "        for reference in reference_spectra:\n",
    "            \n",
    "            scores += [cosine_greedy(query, reference)[0]]\n",
    "    return np.array(scores)\n",
    "\n",
    "    "
   ]
  },
  {
   "cell_type": "markdown",
   "metadata": {},
   "source": [
    "## FDR Estimation"
   ]
  },
  {
   "cell_type": "code",
   "execution_count": 40,
   "metadata": {},
   "outputs": [],
   "source": [
    "#Estimating FDRs for 1000 query spectrum for 100 different cosine score thresholds\n",
    "\n",
    "\n",
    "\n",
    "#quey_spectra is list of query spectra (from target database)\n",
    "#target_spectra is list of target spectra (target database)\n",
    "#decoy_spectra is list of decoy spectra (decoy database)\n",
    "#Assume all necessary processing is done.\n",
    "\n",
    "score_thresholds = np.arange(0, 1, 0.01)                 #Using 100 score thresholds\n",
    "\n",
    "#Getting hits for each query spectrum in reference spectra\n",
    "#Type_query here is whether it's target or decoy hit. True is for target hit, False for decoy hit.\n",
    "#(Using indices rather than GNPS IDs for now)\n",
    "\n",
    "def get_hits(query_spectra, reference_spectra, cos_tolerance, type_hit):\n",
    "    \n",
    "    no_query = len(query_spectra)\n",
    "    hits = pd.DataFrame({'Cosine Score':pd.Series([0]*no_query, dtype='float'), 'Reference InChl':pd.Series([0]*no_query, dtype='str'), 'Reference Id':pd.Series([0]*no_query, dtype='str'), 'Query InChl':pd.Series([0]*no_query, dtype='str'), 'Query Id':pd.Series([0]*no_query, dtype='str'), 'Target/Decoy Hit':pd.Series([0]*no_query, dtype='bool')})\n",
    "    for i in range(no_query):\n",
    "    \n",
    "        query_scores = scores_array([query_spectra[i]], reference_spectra, cos_tolerance = cos_tolerance)\n",
    "        max_reference = np.argsort(query_scores)[-1]\n",
    "        reference_inchikey = reference_spectra[max_reference].get(\"inchikey\")\n",
    "        reference_inchikey = reference_inchikey if reference_inchikey else np.nan\n",
    "        reference_id = reference_spectra[max_reference].get(\"id\")\n",
    "        reference_id = reference_id if reference_id else np.nan\n",
    "        query_inchikey = query_spectra[i].get(\"inchikey\")           \n",
    "        query_id = query_spectra[i].get(\"id\")\n",
    "        \n",
    "        hit = [query_scores[max_reference], reference_inchikey, reference_id, query_inchikey, query_id, type_hit]\n",
    "        hits.iloc[i, :] = hit                 \n",
    "    return hits\n",
    "\n",
    "#Estimate FDR from dataframe of sorted hits for certain cosine score threshold\n",
    "#FDR is estimated as no. decoy hits above threshold/no. target hits above threshold\n",
    "#Returns np.nan if no. targets is 0\n",
    "\n",
    "def estimate_FDR(hits, threshold):\n",
    "    \n",
    "    thresholds_hits = hits[hits[\"Cosine Score\"] > threshold]\n",
    "    targets = sum(thresholds_hits[\"Target/Decoy Hit\"] == 1)\n",
    "    decoys = sum(thresholds_hits[\"Target/Decoy Hit\"] == 0)\n",
    "    if targets != 0 :\n",
    "        \n",
    "        FDR_estimate = decoys/targets\n",
    "        return FDR_estimate\n",
    "    else:\n",
    "        \n",
    "        print(\"No targets found. No FDR estimate available.\")\n",
    "        return np.nan\n",
    "    \n",
    "\n",
    "\n",
    "decoy_hits = get_hits(query_spectra, decoy_spectra, cos_tolerance = 10, type_hit = False)\n",
    "target_hits = get_hits(query_spectra, target_spectra, cos_tolerance = 10, type_hit = True)\n",
    "all_hits = pd.concat([decoy_hits, target_hits], ignore_index = True)\n",
    "all_hits = all_hits.sort_values(by = [\"Cosine Score\"], ascending= False)"
   ]
  },
  {
   "cell_type": "markdown",
   "metadata": {},
   "source": [
    "## Estimating Q-Values"
   ]
  },
  {
   "cell_type": "code",
   "execution_count": 41,
   "metadata": {},
   "outputs": [],
   "source": [
    "#Estimating q-values for (all) target and decoy hits for query spectra\n",
    "\n",
    "\n",
    "\n",
    "#Going through each hit from all hits, and find their q-value:\n",
    "#Go through all the possible score thresholds.\n",
    "#Calculate their FDRs.\n",
    "#The min. FDR at which this hit is in the output list is the q-value.\n",
    "\n",
    "estimated_q_values = []\n",
    "for index, hit in all_hits.iterrows():\n",
    "    \n",
    "    estimate_FDRs = []\n",
    "    hit_score = hit[\"Cosine Score\"]\n",
    "    thresholds = score_thresholds[score_thresholds < hit_score]\n",
    "    for threshold in thresholds:\n",
    "        \n",
    "        FDR = estimate_FDR(all_hits, threshold)\n",
    "        if not np.isnan(FDR):\n",
    "            \n",
    "            estimate_FDRs += [FDR]    \n",
    "    if estimate_FDRs != []:\n",
    "\n",
    "        estimated_q_values += [min(estimate_FDRs)]\n",
    "    else:\n",
    "        \n",
    "        estimated_q_values += [np.nan]"
   ]
  },
  {
   "cell_type": "markdown",
   "metadata": {},
   "source": [
    "## Calculating True FDRs"
   ]
  },
  {
   "cell_type": "code",
   "execution_count": 42,
   "metadata": {},
   "outputs": [],
   "source": [
    "#Calculating True FDRs\n",
    "\n",
    "\n",
    "    \n",
    "#Calculate FDR from dataframe of sorted hits for certain cosine score threshold\n",
    "#False hits are hits which are not the true identity for associated query spectra\n",
    "#FDR is estimated as (no. false hits + no. decoy hits)/no. target hits above threshold\n",
    "#Returns np.nan if no. targets is 0\n",
    "\n",
    "def calculate_FDR(hits, threshold):\n",
    "    \n",
    "    thresholds_hits = hits[hits[\"Cosine Score\"] > threshold]\n",
    "    no_targets = sum(thresholds_hits[\"Target/Decoy Hit\"] == 1)\n",
    "    no_decoys = sum(thresholds_hits[\"Target/Decoy Hit\"] == 0)\n",
    "    \n",
    "    target_hits = thresholds_hits[thresholds_hits[\"Target/Decoy Hit\"] == 1]\n",
    "    no_false_hits = sum(target_hits[\"Reference InChl\"] != target_hits[\"Query InChl\"])\n",
    "    if no_targets != 0:\n",
    "        \n",
    "        FDR = (no_decoys + no_false_hits)/no_targets\n",
    "        return FDR\n",
    "    else:\n",
    "        \n",
    "        print(\"No targets found. No FDR estimate available.\")\n",
    "        return np.nan"
   ]
  },
  {
   "cell_type": "markdown",
   "metadata": {},
   "source": [
    "## Calculating True Q-Values"
   ]
  },
  {
   "cell_type": "code",
   "execution_count": 43,
   "metadata": {},
   "outputs": [],
   "source": [
    "#Calculating true q-values for (all) target and decoy hits for query spectra\n",
    "\n",
    "\n",
    "\n",
    "#Going through each hit from all hits, and find their true q-value:\n",
    "#Go through all the possible score thresholds.\n",
    "#Calculate their true FDRs.\n",
    "#The min. FDR at which this hit is in the output list is the q-value.\n",
    "\n",
    "true_q_values = []\n",
    "for index, hit in all_hits.iterrows():\n",
    "    \n",
    "    true_FDRs = []\n",
    "    hit_score = hit[\"Cosine Score\"]\n",
    "    thresholds = score_thresholds[score_thresholds < hit_score]\n",
    "    for threshold in thresholds:\n",
    "        \n",
    "        FDR = calculate_FDR(all_hits, threshold)\n",
    "        if not np.isnan(FDR):\n",
    "            \n",
    "            true_FDRs += [FDR]    \n",
    "    if true_FDRs != []:\n",
    "\n",
    "        true_q_values += [min(true_FDRs)]\n",
    "    else:\n",
    "        \n",
    "        true_q_values += [np.nan]"
   ]
  },
  {
   "cell_type": "markdown",
   "metadata": {},
   "source": [
    "## QQ-plots of True Q-Values vs. Esimated Q-Values"
   ]
  },
  {
   "cell_type": "code",
   "execution_count": 56,
   "metadata": {},
   "outputs": [
    {
     "data": {
      "image/png": "[encoded data removed]",
      "text/plain": [
       "<Figure size 432x288 with 1 Axes>"
      ]
     },
     "metadata": {
      "needs_background": "light"
     },
     "output_type": "display_data"
    }
   ],
   "source": [
    "#QQ-plots of true qq-values against estimated q-values.\n",
    "\n",
    "\n",
    "\n",
    "#Sorting q-values and removing nas.\n",
    "\n",
    "estimated_q_values = np.array(estimated_q_values)\n",
    "true_q_values = np.array(true_q_values)\n",
    "order = np.argsort(estimated_q_values)\n",
    "estimated_q_values = estimated_q_values[order]\n",
    "true_q_values = true_q_values[order]\n",
    "\n",
    "estimated_non_nans = np.where(~np.isnan(estimated_q_values))[0]\n",
    "true_non_nans = np.where(~np.isnan(true_q_values))[0]\n",
    "non_nans = np.intersect1d(estimated_non_nans, true_non_nans, assume_unique = True)\n",
    "etimated_q_values = estimated_q_values[non_nans]\n",
    "true_q_values = true_q_values[non_nans]\n",
    "\n",
    "#Producing QQ-plot for the two decoy methods.\n",
    "\n",
    "xmax = np.max(estimated_q_values)\n",
    "ymax = np.max(true_q_values)\n",
    "ax_lim = xmax if xmax > ymax else ymax \n",
    "\n",
    "fig=plt.figure()\n",
    "ax=fig.add_axes([0,0,1,1])\n",
    "ax.scatter(true_q_values, estimated_q_values, color = \"r\", s=20)\n",
    "ax.plot(true_q_values, estimated_q_values, color = \"r\", label = \"Naive Method\")\n",
    "ax.plot([0, ax_lim], [0,ax_lim],\"r--\", color = \"black\")\n",
    "\n",
    "#ax.set_xlim(0, ax_lim)\n",
    "#ax.set_ylim(0, ax_lim)\n",
    "ax.set_ylabel('Estimated q-values')\n",
    "ax.set_xlabel('True q-values')\n",
    "ax.set_title('QQ-plot of True Q-Values vs. Estimated Q-Values')\n",
    "ax.legend(loc=\"upper left\")\n",
    "plt.show()"
   ]
  },
  {
   "cell_type": "markdown",
   "metadata": {},
   "source": [
    "## Testing"
   ]
  },
  {
   "cell_type": "code",
   "execution_count": 38,
   "metadata": {},
   "outputs": [],
   "source": [
    "#Testing\n",
    "\n",
    "#Test dataset, randomly generated\n",
    "#5 query spectra, 100 target spectra, 100 decoy spectra\n",
    "\n",
    "#Function to generate n random spectra with intensity and mz range\n",
    "\n",
    "def generate_random_spectra(n, id_key, type_spectra, intensity_range = (0.1, 0.7), mz_range = (30, 300), peaks_range = (3, 11)):\n",
    "    \n",
    "    spectra = []\n",
    "    for i in range(n):\n",
    "        \n",
    "        no_peaks = np.random.randint(peaks_range[0], peaks_range[1])\n",
    "        intensities = np.random.uniform(intensity_range[0], intensity_range[1], no_peaks)\n",
    "        mzs = np.random.uniform(mz_range[0], mz_range[1], no_peaks)\n",
    "        mzs = np.sort(mzs)\n",
    "        inchikey = np.random.randint(0, 11)\n",
    "        spectrum = Spectrum(intensities=intensities, mz=mzs, metadata={'id': f'spectrum {i}{id_key}'})\n",
    "        if type_spectra:\n",
    "            \n",
    "            inchikey = np.random.randint(0, 16)\n",
    "            spectrum.set(\"inchikey\", f'{inchikey}')\n",
    "        spectra += [spectrum]\n",
    "    return spectra\n",
    "\n",
    "\n",
    "target_spectra = generate_random_spectra(105, id_key = \"T\", type_spectra = True)\n",
    "decoy_spectra = generate_random_spectra(100, id_key = \"D\", type_spectra = False)\n",
    "query_choices = np.random.choice(range(len(target_spectra)), 5, replace = False)\n",
    "query_spectra = [target_spectra[query_choice] for query_choice in query_choices]\n",
    "\n",
    "target_spectra = [target_spectra[i] for i in range(len(target_spectra)) if i not in query_choices]"
   ]
  }
 ],
 "metadata": {
  "kernelspec": {
   "display_name": "Python 3",
   "language": "python",
   "name": "python3"
  },
  "language_info": {
   "codemirror_mode": {
    "name": "ipython",
    "version": 3
   },
   "file_extension": ".py",
   "mimetype": "text/x-python",
   "name": "python",
   "nbconvert_exporter": "python",
   "pygments_lexer": "ipython3",
   "version": "3.7.7"
  }
 },
 "nbformat": 4,
 "nbformat_minor": 4
}
