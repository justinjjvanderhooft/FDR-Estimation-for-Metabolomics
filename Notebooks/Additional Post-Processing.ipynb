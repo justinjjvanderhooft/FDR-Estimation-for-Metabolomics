{
 "cells": [
  {
   "cell_type": "markdown",
   "metadata": {},
   "source": [
    "# Additional Post-Processing"
   ]
  },
  {
   "cell_type": "markdown",
   "metadata": {},
   "source": [
    "Additional post-processing functions for the GNPS dataset used in the decoy generation experiment."
   ]
  },
  {
   "cell_type": "markdown",
   "metadata": {},
   "source": [
    "## Setup"
   ]
  },
  {
   "cell_type": "code",
   "execution_count": 1,
   "metadata": {},
   "outputs": [],
   "source": [
    "import numpy as np\n",
    "from matchms import Spikes\n",
    "from matchms.filtering import select_by_relative_intensity\n",
    "\n",
    "import sys\n",
    "import os\n",
    "\n",
    "path = 'C:\\\\Users\\ashou\\Downloads\\FDR_Metabolomics'\n",
    "sys.path.append(os.path.join(path, 'Python_Files'))"
   ]
  },
  {
   "cell_type": "markdown",
   "metadata": {},
   "source": [
    "## Post-Processing Functions"
   ]
  },
  {
   "cell_type": "code",
   "execution_count": 6,
   "metadata": {},
   "outputs": [],
   "source": [
    "#Post-processing functions\n",
    "\n",
    "\n",
    "\n",
    "\n",
    "from Decoy_Generation_Methods import get_precursor_mz\n",
    "\n",
    "#Remove peaks based on peaks within a mz_window Da range of the top K peaks\n",
    "#Keep peak only if it is in the top K peaks within a mz_window Da range, mz_window,, K =  50 Da, K 10 default\n",
    "\n",
    "def window_process(spectrum, k = 6, mz_window = 50):\n",
    "    \n",
    "    mzs = spectrum.peaks.mz\n",
    "    intensities = spectrum.peaks.intensities\n",
    "    top_k = np.argsort(intensities)[::-1][0:k]\n",
    "    K_ordered_mzs = mzs[top_k]\n",
    "    indices = [i for i in range(len(mzs)) if i not in top_k]\n",
    "    new_mzs = mzs\n",
    "    new_intensities = intensities\n",
    "    for i in indices:\n",
    "        \n",
    "        compare = abs(mzs[i]-K_ordered_mzs) <= mz_window\n",
    "        if True not in compare:\n",
    "            new_mzs[i] = np.nan\n",
    "            new_intensities[i] = np.nan\n",
    "    \n",
    "    nans = np.isnan(new_mzs)\n",
    "    new_mzs = new_mzs[~nans]\n",
    "    new_intensities = new_intensities[~nans]\n",
    "    spectrum.peaks = Spikes(mz=new_mzs, intensities=new_intensities)\n",
    "    \n",
    "    return spectrum\n",
    "\n",
    "#Keep only spectra with precursor_mz below max_mz, default 1000 Da.\n",
    "\n",
    "def remove_spectra_below(spectrum, max_mz = 1000):\n",
    "    \n",
    "    precursor_mz = spectrum.get(\"precursor_mz\") if spectrum.get(\"precursor_mz\") else get_precursor_mz(spectrum)\n",
    "    if precursor_mz >= max_mz:\n",
    "        return None\n",
    "    \n",
    "    return spectrum\n",
    "   \n",
    "#Remove everything apart from the precursor that is within mz_tolerance (Da) of the precursor, 17 Da default\n",
    "\n",
    "def remove_spectra_within_tolerance(spectrum, mz_tolerance = 17):\n",
    "    \n",
    "    precursor_mz = spectrum.get(\"precursor_mz\") if spectrum.get(\"precursor_mz\") else get_precursor_mz(spectrum)\n",
    "    mzs = spectrum.peaks.mz\n",
    "    intensities = spectrum.peaks.intensities\n",
    "    new_mzs = mzs\n",
    "    new_intensities = intensities\n",
    "    if precursor_mz:\n",
    "        for i in range(len(mzs)):\n",
    "            \n",
    "            if abs(precursor_mz-mzs[i]) <= mz_tolerance and mzs[i] != precursor_mz:\n",
    "                new_mzs[i] = np.nan\n",
    "                new_intensities[i] = np.nan\n",
    "                \n",
    "        nans = np.isnan(new_mzs)\n",
    "        new_mzs = new_mzs[~nans]\n",
    "        new_intensities = new_intensities[~nans]\n",
    "        spectrum.peaks = Spikes(mz=new_mzs, intensities=new_intensities)\n",
    "\n",
    "    return spectrum\n",
    "\n",
    "#Discard spectra with <no_peaks peaks with relative intensity above intensity_percent%\n",
    "#no_peaks, intensity_percent = 5, 2 default\n",
    "\n",
    "def remove_spectra_above_intensity(spectrum, no_peaks = 5, intensity_percent = 2):\n",
    "\n",
    "    intensities = spectrum.peaks.intensities\n",
    "    intensities_above_p = select_by_relative_intensity(spectrum, intensity_from=intensity_percent/100, intensity_to=1.0)\n",
    "    if len(intensities_above_p.peaks) < no_peaks:\n",
    "        return None\n",
    "    \n",
    "    return spectrum"
   ]
  }
 ],
 "metadata": {
  "kernelspec": {
   "display_name": "Python 3",
   "language": "python",
   "name": "python3"
  },
  "language_info": {
   "codemirror_mode": {
    "name": "ipython",
    "version": 3
   },
   "file_extension": ".py",
   "mimetype": "text/x-python",
   "name": "python",
   "nbconvert_exporter": "python",
   "pygments_lexer": "ipython3",
   "version": "3.7.7"
  }
 },
 "nbformat": 4,
 "nbformat_minor": 4
}
