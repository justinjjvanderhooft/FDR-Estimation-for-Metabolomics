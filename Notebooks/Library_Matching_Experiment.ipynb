{
 "cells": [
  {
   "cell_type": "markdown",
   "metadata": {},
   "source": [
    "# Library Matching Experiment"
   ]
  },
  {
   "cell_type": "markdown",
   "metadata": {},
   "source": [
    "Here, we will re-produce the results from [here](file:///C:/Users/kia/Downloads/Metabolomics%20Internship/Papers/Converting%20from%20proteomics%20to%20metabolomics.pdf). In particular, we will produce the QQ-plots of q-values for FDR assessment, and histograms of estimated p-values for null model evaluation."
   ]
  },
  {
   "cell_type": "markdown",
   "metadata": {},
   "source": [
    "## Setup"
   ]
  },
  {
   "cell_type": "code",
   "execution_count": 1,
   "metadata": {},
   "outputs": [],
   "source": [
    "from matchms import Scores, Spectrum, Spikes\n",
    "from matchms.similarity import CosineGreedy\n",
    "import numpy as np\n",
    "import pandas as pd\n",
    "import matplotlib.pyplot as plt\n",
    "\n",
    "import sys\n",
    "import os\n",
    "\n",
    "ROOT = os.path.dirname(os.getcwd())\n",
    "sys.path.append(os.path.join(ROOT, 'Custom_Functions'))"
   ]
  },
  {
   "cell_type": "markdown",
   "metadata": {},
   "source": [
    "## Import Pre-Processed Dataset \"AllPositive\""
   ]
  },
  {
   "cell_type": "code",
   "execution_count": 2,
   "metadata": {},
   "outputs": [],
   "source": [
    "from matchms.importing import load_from_json\n",
    "\n",
    "#Import pre-processed dataset\n",
    "\n",
    "path_data = os.path.join(ROOT, 'Data')\n",
    "sys.path.insert(0, ROOT)\n",
    "\n",
    "\n",
    "filename = os.path.join(path_data,'gnps_positive_ionmode_cleaned_by_matchms_and_lookups.json')\n",
    "spectra = load_from_json(filename)"
   ]
  },
  {
   "cell_type": "code",
   "execution_count": 4,
   "metadata": {},
   "outputs": [
    {
     "name": "stdout",
     "output_type": "stream",
     "text": [
      "No. of  pre-processed target spectra: 112956\n"
     ]
    }
   ],
   "source": [
    "#No of pre-processed target spectra\n",
    "\n",
    "print(f'No. of  pre-processed target spectra: {len(spectra)}')"
   ]
  },
  {
   "cell_type": "markdown",
   "metadata": {},
   "source": [
    "## Fix Spectra with Missing Precursor Mz (<15)"
   ]
  },
  {
   "cell_type": "code",
   "execution_count": 5,
   "metadata": {},
   "outputs": [
    {
     "name": "stdout",
     "output_type": "stream",
     "text": [
      "2937\n",
      "parent mass new: 547.2247235480093 former was: -1.00727645199076\n",
      "precursor_mz new: 548.232 former was: 0.0\n",
      "2938\n",
      "parent mass new: 589.2357235480093 former was: -1.00727645199076\n",
      "precursor_mz new: 590.243 former was: 0.0\n",
      "3519\n",
      "parent mass new: 286.04772354800923 former was: -1.00727645199076\n",
      "precursor_mz new: 287.055 former was: 0.0\n",
      "4139\n",
      "parent mass new: 466.2697235480092 former was: -1.00727645199076\n",
      "precursor_mz new: 467.277 former was: 0.0\n",
      "4171\n",
      "parent mass new: 674.4887235480093 former was: -1.00727645199076\n",
      "precursor_mz new: 675.496 former was: 0.0\n",
      "4172\n",
      "parent mass new: 691.5147235480093 former was: -1.00727645199076\n",
      "precursor_mz new: 692.522 former was: 0.0\n",
      "4173\n",
      "parent mass new: 696.4707235480092 former was: -1.00727645199076\n",
      "precursor_mz new: 697.478 former was: 0.0\n",
      "4180\n",
      "parent mass new: 629.6107235480093 former was: -1.00727645199076\n",
      "precursor_mz new: 630.618 former was: 0.0\n",
      "4181\n",
      "parent mass new: 491.47072354800923 former was: -1.00727645199076\n",
      "precursor_mz new: 492.478 former was: 0.0\n",
      "4182\n",
      "parent mass new: 531.4627235480093 former was: -1.00727645199076\n",
      "precursor_mz new: 532.47 former was: 0.0\n",
      "22334\n",
      "parent mass new: 199.09972354800925 former was: -1.00727645199076\n",
      "precursor_mz new: 200.107 former was: 0.0\n",
      "22595\n",
      "parent mass new: 517.3137235480093 former was: -1.00727645199076\n",
      "precursor_mz new: 518.321 former was: 0.0\n",
      "23298\n",
      "parent mass new: 208.18272354800925 former was: -1.00727645199076\n",
      "precursor_mz new: 209.19 former was: 0.0\n"
     ]
    }
   ],
   "source": [
    "#Fixing parent mass and precursor mz where missing for spectra\n",
    "\n",
    "for i, spec in enumerate(spectra):\n",
    "    if not spec.get(\"precursor_mz\"):\n",
    "        print(i)\n",
    "        fix_mass = 0.0\n",
    "        for history in spec.metadata['annotation_history']:\n",
    "            fix_mass_test = float(history['Precursor_MZ'])\n",
    "            fix_mass = max(fix_mass, fix_mass_test)\n",
    "        charge = spec.get(\"charge\")\n",
    "        protons_mass = 1.00727645199076 * charge\n",
    "        precursor_mass = fix_mass * abs(charge)\n",
    "        parent_mass = precursor_mass - protons_mass\n",
    "        if parent_mass:\n",
    "            print(\"parent mass new:\", parent_mass, \"former was:\", spec.get(\"parent_mass\"))\n",
    "            spec.set(\"parent_mass\", parent_mass)\n",
    "        print(\"precursor_mz new:\", fix_mass, \"former was:\", spec.get(\"precursor_mz\"))\n",
    "        spec.set(\"precursor_mz\", fix_mass)"
   ]
  },
  {
   "cell_type": "markdown",
   "metadata": {},
   "source": [
    "## Post-Process Dataset"
   ]
  },
  {
   "cell_type": "code",
   "execution_count": 6,
   "metadata": {},
   "outputs": [],
   "source": [
    "from matchms.filtering import normalize_intensities\n",
    "from matchms.filtering import require_minimum_number_of_peaks\n",
    "from matchms.filtering import select_by_mz\n",
    "from matchms.filtering import select_by_relative_intensity\n",
    "from matchms.filtering import reduce_to_number_of_peaks\n",
    "from matchms.filtering import add_losses\n",
    "\n",
    "from Additional_Post_Processing import require_precursor_below_mz\n",
    "from Additional_Post_Processing import require_minimum_of_high_peaks\n",
    "\n",
    "#Post-processing dataset based on spec2vec post-processing and additional post-processing\n",
    "\n",
    "def post_process_s2v(s):\n",
    "    \n",
    "    s = normalize_intensities(s)\n",
    "    s = select_by_mz(s, mz_from=0, mz_to=1000)\n",
    "    s = require_minimum_number_of_peaks(s, n_required=10)\n",
    "    s = reduce_to_number_of_peaks(s, n_required=10, ratio_desired=0.5)\n",
    "    if s is None:\n",
    "        return None\n",
    "    s_remove_low_peaks = select_by_relative_intensity(s, intensity_from=0.001)\n",
    "    if len(s_remove_low_peaks.peaks) >= 10:\n",
    "        s = s_remove_low_peaks\n",
    "        \n",
    "    s = add_losses(s, loss_mz_from=5.0, loss_mz_to=200.0)\n",
    "    return s\n",
    "\n",
    "def additional_post_process(s):\n",
    "    \n",
    "    s = require_precursor_below_mz(s)\n",
    "    if s is None:\n",
    "        return None\n",
    "    s = require_minimum_of_high_peaks(s)\n",
    "    return s\n",
    "\n",
    "# apply post processing steps to the data\n",
    "\n",
    "spectra = [post_process_s2v(s) for s in spectra]\n",
    "spectra = [additional_post_process(s) for s in spectra if s is not None]\n",
    "\n",
    "# omit spectrums that didn't qualify for analysis\n",
    "\n",
    "spectra = [s for s in spectra if s is not None]\n",
    "target_spectra = spectra"
   ]
  },
  {
   "cell_type": "code",
   "execution_count": 19,
   "metadata": {},
   "outputs": [
    {
     "name": "stdout",
     "output_type": "stream",
     "text": [
      "No. of  post-processed target spectra: 73181\n"
     ]
    }
   ],
   "source": [
    "#No. of target spectra remaining after post-processing\n",
    "\n",
    "print(f'No. of  post-processed target spectra: {len(target_spectra)}')"
   ]
  },
  {
   "cell_type": "markdown",
   "metadata": {},
   "source": [
    "## Creating Query Spectra"
   ]
  },
  {
   "cell_type": "markdown",
   "metadata": {},
   "source": [
    "### Getting Annotations"
   ]
  },
  {
   "cell_type": "code",
   "execution_count": 45,
   "metadata": {},
   "outputs": [],
   "source": [
    "from matchms.exporting import save_as_json\n",
    "\n",
    "save_as_json(target_spectra, \"target_spectra_without_query_spectra\")\n",
    "save_as_json(query_spectra, \"query_spectra\")"
   ]
  },
  {
   "cell_type": "code",
   "execution_count": 20,
   "metadata": {},
   "outputs": [],
   "source": [
    "Inchikeys = []\n",
    "for spec in target_spectra:\n",
    "    Inchikeys.append(spec.get(\"inchikey\"))\n",
    "    \n",
    "inchikeys_pd = pd.Series([x for x in Inchikeys if x])\n",
    "suitable_inchikeys = pd.DataFrame(inchikeys_pd.str[:14].value_counts()[inchikeys_pd.str[:14].value_counts().values >= 5])\n",
    "suitable_inchikeys.reset_index(level=suitable_inchikeys.index.names, inplace=True)\n",
    "suitable_inchikeys.columns = (['inchikey14', 'occurences'])\n",
    "\n",
    "# Important: sort values to make it reproducible (same occurences have random order otherwise!)\n",
    "\n",
    "suitable_inchikeys = suitable_inchikeys.sort_values(['occurences', 'inchikey14'], ascending=False)"
   ]
  },
  {
   "cell_type": "markdown",
   "metadata": {},
   "source": [
    "### Randomly select 1000 inchikeys that exist >=5 times in the dataset"
   ]
  },
  {
   "cell_type": "code",
   "execution_count": 21,
   "metadata": {},
   "outputs": [],
   "source": [
    "num_spectra = 1000\n",
    "\n",
    "np.random.seed(42) # to make it reproducible\n",
    "selection = np.random.choice(suitable_inchikeys.shape[0], num_spectra, replace=False)\n",
    "selected_inchikeys = suitable_inchikeys['inchikey14'].values[selection]"
   ]
  },
  {
   "cell_type": "markdown",
   "metadata": {},
   "source": [
    "### Randomly pick one spectra for each of the chosen inchikeys"
   ]
  },
  {
   "cell_type": "code",
   "execution_count": 22,
   "metadata": {},
   "outputs": [
    {
     "name": "stdout",
     "output_type": "stream",
     "text": [
      "No. of query spectra: 1000\n"
     ]
    }
   ],
   "source": [
    "selected_spectra = []\n",
    "inchikeys_pd = pd.Series([x for x in Inchikeys])       #include all even empty ones to get the IDs right!\n",
    "\n",
    "np.random.seed(42)                        # to make it reproducible\n",
    "for inchikey in selected_inchikeys:\n",
    "    matches = inchikeys_pd[inchikeys_pd.str[:14] == inchikey].index.values\n",
    "    selected_spectra.append(int(np.random.choice(matches,1)[0]))\n",
    "    \n",
    "query_spectra = [target_spectra[i] for i in selected_spectra]\n",
    "print(f'No. of query spectra: {len(query_spectra)}')"
   ]
  },
  {
   "cell_type": "code",
   "execution_count": 23,
   "metadata": {},
   "outputs": [
    {
     "name": "stdout",
     "output_type": "stream",
     "text": [
      "No. of target spectra remaining: 72181\n"
     ]
    }
   ],
   "source": [
    "#Remove query spectra from target spectra\n",
    "\n",
    "target_spectra = [s for i, s in enumerate(target_spectra) if i not in selected_spectra]\n",
    "print(f'No. of target spectra remaining: {len(target_spectra)}')"
   ]
  },
  {
   "cell_type": "markdown",
   "metadata": {},
   "source": [
    "## Generating Decoys"
   ]
  },
  {
   "cell_type": "markdown",
   "metadata": {},
   "source": [
    "### Setting Up Fragment for Decoy Generation"
   ]
  },
  {
   "cell_type": "code",
   "execution_count": 25,
   "metadata": {},
   "outputs": [],
   "source": [
    "#Getting number of peaks in spectra\n",
    "\n",
    "get_no_peaks = lambda spectrum: len(spectrum.peaks)\n",
    "no_peaks_for_spectra = list(map(get_no_peaks, target_spectra))\n",
    "no_peaks_for_spectra = np.array(no_peaks_for_spectra)\n",
    "total_no_peaks = sum(no_peaks_for_spectra)\n",
    "\n",
    "#Getting fragments from spectra and storing them as a numpy array\n",
    "\n",
    "fragments = np.empty(shape = (total_no_peaks, 4), dtype = float)\n",
    "fragment_count = 0\n",
    "for i, spectrum in enumerate(target_spectra):\n",
    "    \n",
    "    intensities = spectrum.peaks.intensities\n",
    "    mzs = spectrum.peaks.mz\n",
    "    precursor_mz = spectrum.get(\"precursor_mz\")  \n",
    "    for j in range(len(intensities)):\n",
    "        \n",
    "        mz = mzs[j]\n",
    "        intensity = intensities[j]\n",
    "        fragments[fragment_count] = [mz, intensity, i, np.nan]\n",
    "        fragment_count += 1"
   ]
  },
  {
   "cell_type": "code",
   "execution_count": 26,
   "metadata": {},
   "outputs": [],
   "source": [
    "#Getting precursor fragments within 10 p.p.m.\n",
    "\n",
    "precursor_fragments = []\n",
    "precursor_mzs = []\n",
    "ppm_tolerance = 10\n",
    "for i, spectrum in enumerate(target_spectra):\n",
    "    \n",
    "    intensities = spectrum.peaks.intensities\n",
    "    mzs = spectrum.peaks.mz\n",
    "    precursor_mz = spectrum.get(\"precursor_mz\")\n",
    "    precursor_mzs.append(precursor_mz)\n",
    "    tolerance = (precursor_mz*ppm_tolerance)/(10**6)\n",
    "    lower_mz = precursor_mz - tolerance\n",
    "    upper_mz = precursor_mz + tolerance\n",
    "    mzs_in_tolerance = np.where((mzs >= lower_mz) & (mzs <= upper_mz))[0]\n",
    "    if len(mzs_in_tolerance) > 0:\n",
    "    \n",
    "        intensities_for_mzs = intensities[mzs_in_tolerance]\n",
    "        max_intensity_index = np.argmax(intensities_for_mzs)\n",
    "        fragment_index = mzs_in_tolerance[max_intensity_index]\n",
    "        precursor_fragment = [mzs[fragment_index], intensities[fragment_index], i, 1]\n",
    "        precursor_fragments.append(precursor_fragment)\n",
    "    \n",
    "precursor_fragments = np.array(precursor_fragments)\n",
    "precursor_mzs = np.array(precursor_mzs)\n",
    "\n",
    "#Sorting fragments in place\n",
    "\n",
    "order_fragments = np.argsort(fragments[:,0])\n",
    "sorted_fragments = fragments[order_fragments,:]\n",
    "order_precursors = np.argsort(precursor_fragments[:,0])\n",
    "precursor_fragments = precursor_fragments[order_precursors,:]"
   ]
  },
  {
   "cell_type": "code",
   "execution_count": 27,
   "metadata": {},
   "outputs": [],
   "source": [
    "from Decoy_Generation_Methods import get_initial_fragment\n",
    "\n",
    "#Getting all the indices for the first fragment of spectra in fragments\n",
    "\n",
    "first_fragments = [0]\n",
    "for i in range(1, len(target_spectra) + 1):\n",
    "    \n",
    "    first_fragment = first_fragments[i-1] + no_peaks_for_spectra[i-1]\n",
    "    first_fragments.append(first_fragment)\n",
    "\n",
    "first_fragments = np.array(first_fragments)\n",
    "\n",
    "#Getting initial fragments for decoys\n",
    "\n",
    "np.random.seed(42)                      #to make it reproducible\n",
    "initial_fragments = [get_initial_fragment(spectrum, precursor_mzs, precursor_fragments, ppm_tolerance) for spectrum in target_spectra]\n",
    "initial_fragments = np.array(initial_fragments)\n",
    "initial_fragments[:,2] = np.arange(np.shape(initial_fragments)[0])"
   ]
  },
  {
   "cell_type": "code",
   "execution_count": 27,
   "metadata": {},
   "outputs": [
    {
     "name": "stdout",
     "output_type": "stream",
     "text": [
      "All fragments:\n",
      "\n",
      "                 Mz  Intensity  Spectrum Index  Precursor\n",
      "0        289.286377   0.010553             0.0        NaN\n",
      "1        295.545288   0.029439             0.0        NaN\n",
      "2        298.489624   0.005134             0.0        NaN\n",
      "3        317.324951   0.024515             0.0        NaN\n",
      "4        319.655945   0.011254             0.0        NaN\n",
      "...             ...        ...             ...        ...\n",
      "8063407  305.133453   0.002089         72180.0        NaN\n",
      "8063408  342.161774   0.002686         72180.0        NaN\n",
      "8063409  384.956482   0.001417         72180.0        NaN\n",
      "8063410  398.688019   0.003076         72180.0        NaN\n",
      "8063411  775.654419   0.003611         72180.0        NaN\n",
      "\n",
      "[8063412 rows x 4 columns]\n",
      "\n",
      "\n",
      "\n",
      "Precursor fragments:\n",
      "\n",
      "               Mz  Intensity  Spectrum Index  Precursor\n",
      "0       46.000000   1.000000         43767.0        1.0\n",
      "1       76.000000   0.003361         44622.0        1.0\n",
      "2       76.039299   1.000000          2319.0        1.0\n",
      "3       81.045319   0.169221         15320.0        1.0\n",
      "4       90.055573   0.291667         21039.0        1.0\n",
      "...           ...        ...             ...        ...\n",
      "19376  999.602905   0.005480         22301.0        1.0\n",
      "19377  999.602966   0.089814         22133.0        1.0\n",
      "19378  999.603149   0.130807         22235.0        1.0\n",
      "19379  999.603760   0.006986         22261.0        1.0\n",
      "19380  999.607056   0.010492         21430.0        1.0\n",
      "\n",
      "[19381 rows x 4 columns]\n"
     ]
    }
   ],
   "source": [
    "#Viewing all fragments\n",
    "\n",
    "print(\"All fragments:\\n\")\n",
    "print(pd.DataFrame(fragments, columns = [\"Mz\", \"Intensity\", \"Spectrum Index\", \"Precursor\"]))\n",
    "print(\"\\n\\n\")\n",
    "print(\"Precursor fragments:\\n\")\n",
    "print(pd.DataFrame(precursor_fragments, columns = [\"Mz\", \"Intensity\", \"Spectrum Index\", \"Precursor\"]))"
   ]
  },
  {
   "cell_type": "code",
   "execution_count": 28,
   "metadata": {},
   "outputs": [
    {
     "name": "stdout",
     "output_type": "stream",
     "text": [
      "No. of fragments: 8063412\n",
      "No. of precursor fragments: 19381\n",
      "No. initial fragments that are precursors: 47260\n"
     ]
    }
   ],
   "source": [
    "print(f'No. of fragments: {np.shape(fragments)[0]}')\n",
    "print(f'No. of precursor fragments: {np.shape(precursor_fragments)[0]}')\n",
    "print(f'No. initial fragments that are precursors: {sum(initial_fragments[:,3] == 1)}')"
   ]
  },
  {
   "cell_type": "markdown",
   "metadata": {},
   "source": [
    "### Creating Decoy Spectra"
   ]
  },
  {
   "cell_type": "code",
   "execution_count": 44,
   "metadata": {
    "scrolled": true
   },
   "outputs": [],
   "source": [
    "from Decoy_Generation_Methods import naive_decoys\n",
    "\n",
    "#Create decoys based on the naive method\n",
    "\n",
    "np.random.seed(42)                      #to make it reproducible\n",
    "naive_decoy_spectra = naive_decoys(target_spectra, initial_fragments, fragments, no_peaks_for_spectra)"
   ]
  },
  {
   "cell_type": "code",
   "execution_count": 45,
   "metadata": {},
   "outputs": [
    {
     "name": "stdout",
     "output_type": "stream",
     "text": [
      "Suitable fragment candidate not found. Random fragment from real spectrum added.\n",
      "Suitable fragment candidate not found. Random fragment from real spectrum added.\n",
      "Suitable fragment candidate not found. Random fragment from real spectrum added.\n",
      "Suitable fragment candidate not found. Random fragment from real spectrum added.\n",
      "Suitable fragment candidate not found. Random fragment from real spectrum added.\n",
      "Suitable fragment candidate not found. Random fragment from real spectrum added.\n",
      "Suitable fragment candidate not found. Random fragment from real spectrum added.\n",
      "Suitable fragment candidate not found. Random fragment from real spectrum added.\n",
      "Suitable fragment candidate not found. Random fragment from real spectrum added.\n",
      "Suitable fragment candidate not found. Random fragment from real spectrum added.\n",
      "Suitable fragment candidate not found. Random fragment from real spectrum added.\n",
      "Suitable fragment candidate not found. Random fragment from real spectrum added.\n",
      "Suitable fragment candidate not found. Random fragment from real spectrum added.\n",
      "Suitable fragment candidate not found. Random fragment from real spectrum added.\n",
      "Suitable fragment candidate not found. Random fragment from real spectrum added.\n",
      "Suitable fragment candidate not found. Random fragment from real spectrum added.\n",
      "Suitable fragment candidate not found. Random fragment from real spectrum added.\n",
      "Suitable fragment candidate not found. Random fragment from real spectrum added.\n",
      "Suitable fragment candidate not found. Random fragment from real spectrum added.\n",
      "Suitable fragment candidate not found. Random fragment from real spectrum added.\n",
      "Suitable fragment candidate not found. Random fragment from real spectrum added.\n",
      "Suitable fragment candidate not found. Random fragment from real spectrum added.\n",
      "Suitable fragment candidate not found. Random fragment from real spectrum added.\n",
      "Suitable fragment candidate not found. Random fragment from real spectrum added.\n",
      "Suitable fragment candidate not found. Random fragment from real spectrum added.\n",
      "Suitable fragment candidate not found. Random fragment from real spectrum added.\n",
      "Suitable fragment candidate not found. Random fragment from real spectrum added.\n",
      "Suitable fragment candidate not found. Random fragment from real spectrum added.\n",
      "Suitable fragment candidate not found. Random fragment from real spectrum added.\n",
      "Suitable fragment candidate not found. Random fragment from real spectrum added.\n",
      "Suitable fragment candidate not found. Random fragment from real spectrum added.\n",
      "Suitable fragment candidate not found. Random fragment from real spectrum added.\n",
      "Suitable fragment candidate not found. Random fragment from real spectrum added.\n",
      "Suitable fragment candidate not found. Random fragment from real spectrum added.\n",
      "Suitable fragment candidate not found. Random fragment from real spectrum added.\n",
      "Suitable fragment candidate not found. Random fragment from real spectrum added.\n",
      "Suitable fragment candidate not found. Random fragment from real spectrum added.\n",
      "Suitable fragment candidate not found. Random fragment from real spectrum added.\n",
      "Suitable fragment candidate not found. Random fragment from real spectrum added.\n",
      "Suitable fragment candidate not found. Random fragment from real spectrum added.\n",
      "Suitable fragment candidate not found. Random fragment from real spectrum added.\n",
      "Suitable fragment candidate not found. Random fragment from real spectrum added.\n",
      "Suitable fragment candidate not found. Random fragment from real spectrum added.\n",
      "Suitable fragment candidate not found. Random fragment from real spectrum added.\n",
      "Suitable fragment candidate not found. Random fragment from real spectrum added.\n",
      "Suitable fragment candidate not found. Random fragment from real spectrum added.\n",
      "Suitable fragment candidate not found. Random fragment from real spectrum added.\n",
      "Suitable fragment candidate not found. Random fragment from real spectrum added.\n",
      "Suitable fragment candidate not found. Random fragment from real spectrum added.\n",
      "Suitable fragment candidate not found. Random fragment from real spectrum added.\n",
      "Suitable fragment candidate not found. Random fragment from real spectrum added.\n",
      "Suitable fragment candidate not found. Random fragment from real spectrum added.\n",
      "Suitable fragment candidate not found. Random fragment from real spectrum added.\n",
      "Suitable fragment candidate not found. Random fragment from real spectrum added.\n",
      "Suitable fragment candidate not found. Random fragment from real spectrum added.\n",
      "Suitable fragment candidate not found. Random fragment from real spectrum added.\n",
      "Suitable fragment candidate not found. Random fragment from real spectrum added.\n",
      "Suitable fragment candidate not found. Random fragment from real spectrum added.\n",
      "Suitable fragment candidate not found. Random fragment from real spectrum added.\n",
      "Suitable fragment candidate not found. Random fragment from real spectrum added.\n",
      "Suitable fragment candidate not found. Random fragment from real spectrum added.\n",
      "Suitable fragment candidate not found. Random fragment from real spectrum added.\n",
      "Suitable fragment candidate not found. Random fragment from real spectrum added.\n",
      "Suitable fragment candidate not found. Random fragment from real spectrum added.\n",
      "Suitable fragment candidate not found. Random fragment from real spectrum added.\n",
      "Suitable fragment candidate not found. Random fragment from real spectrum added.\n",
      "Suitable fragment candidate not found. Random fragment from real spectrum added.\n",
      "Suitable fragment candidate not found. Random fragment from real spectrum added.\n",
      "Suitable fragment candidate not found. Random fragment from real spectrum added.\n",
      "Suitable fragment candidate not found. Random fragment from real spectrum added.\n",
      "Suitable fragment candidate not found. Random fragment from real spectrum added.\n",
      "Suitable fragment candidate not found. Random fragment from real spectrum added.\n",
      "Suitable fragment candidate not found. Random fragment from real spectrum added.\n",
      "Suitable fragment candidate not found. Random fragment from real spectrum added.\n",
      "Suitable fragment candidate not found. Random fragment from real spectrum added.\n",
      "Suitable fragment candidate not found. Random fragment from real spectrum added.\n",
      "Suitable fragment candidate not found. Random fragment from real spectrum added.\n",
      "Suitable fragment candidate not found. Random fragment from real spectrum added.\n",
      "Suitable fragment candidate not found. Random fragment from real spectrum added.\n",
      "Suitable fragment candidate not found. Random fragment from real spectrum added.\n",
      "Suitable fragment candidate not found. Random fragment from real spectrum added.\n",
      "Suitable fragment candidate not found. Random fragment from real spectrum added.\n",
      "Suitable fragment candidate not found. Random fragment from real spectrum added.\n",
      "Suitable fragment candidate not found. Random fragment from real spectrum added.\n",
      "Suitable fragment candidate not found. Random fragment from real spectrum added.\n",
      "Suitable fragment candidate not found. Random fragment from real spectrum added.\n",
      "Suitable fragment candidate not found. Random fragment from real spectrum added.\n",
      "Suitable fragment candidate not found. Random fragment from real spectrum added.\n",
      "Suitable fragment candidate not found. Random fragment from real spectrum added.\n",
      "Suitable fragment candidate not found. Random fragment from real spectrum added.\n",
      "Suitable fragment candidate not found. Random fragment from real spectrum added.\n",
      "Suitable fragment candidate not found. Random fragment from real spectrum added.\n",
      "Suitable fragment candidate not found. Random fragment from real spectrum added.\n",
      "Suitable fragment candidate not found. Random fragment from real spectrum added.\n",
      "Suitable fragment candidate not found. Random fragment from real spectrum added.\n",
      "Suitable fragment candidate not found. Random fragment from real spectrum added.\n",
      "Suitable fragment candidate not found. Random fragment from real spectrum added.\n",
      "Suitable fragment candidate not found. Random fragment from real spectrum added.\n",
      "Suitable fragment candidate not found. Random fragment from real spectrum added.\n",
      "Suitable fragment candidate not found. Random fragment from real spectrum added.\n",
      "Suitable fragment candidate not found. Random fragment from real spectrum added.\n",
      "Suitable fragment candidate not found. Random fragment from real spectrum added.\n"
     ]
    },
    {
     "name": "stdout",
     "output_type": "stream",
     "text": [
      "Suitable fragment candidate not found. Random fragment from real spectrum added.\n",
      "Suitable fragment candidate not found. Random fragment from real spectrum added.\n",
      "Suitable fragment candidate not found. Random fragment from real spectrum added.\n",
      "Suitable fragment candidate not found. Random fragment from real spectrum added.\n",
      "Suitable fragment candidate not found. Random fragment from real spectrum added.\n",
      "Suitable fragment candidate not found. Random fragment from real spectrum added.\n",
      "Suitable fragment candidate not found. Random fragment from real spectrum added.\n",
      "Suitable fragment candidate not found. Random fragment from real spectrum added.\n",
      "Suitable fragment candidate not found. Random fragment from real spectrum added.\n",
      "Suitable fragment candidate not found. Random fragment from real spectrum added.\n",
      "Suitable fragment candidate not found. Random fragment from real spectrum added.\n",
      "Suitable fragment candidate not found. Random fragment from real spectrum added.\n",
      "Suitable fragment candidate not found. Random fragment from real spectrum added.\n",
      "Suitable fragment candidate not found. Random fragment from real spectrum added.\n",
      "Suitable fragment candidate not found. Random fragment from real spectrum added.\n",
      "Suitable fragment candidate not found. Random fragment from real spectrum added.\n",
      "Suitable fragment candidate not found. Random fragment from real spectrum added.\n",
      "Suitable fragment candidate not found. Random fragment from real spectrum added.\n",
      "Suitable fragment candidate not found. Random fragment from real spectrum added.\n",
      "Suitable fragment candidate not found. Random fragment from real spectrum added.\n",
      "Suitable fragment candidate not found. Random fragment from real spectrum added.\n",
      "Suitable fragment candidate not found. Random fragment from real spectrum added.\n",
      "Suitable fragment candidate not found. Random fragment from real spectrum added.\n",
      "Suitable fragment candidate not found. Random fragment from real spectrum added.\n",
      "Suitable fragment candidate not found. Random fragment from real spectrum added.\n",
      "Suitable fragment candidate not found. Random fragment from real spectrum added.\n",
      "Suitable fragment candidate not found. Random fragment from real spectrum added.\n",
      "Suitable fragment candidate not found. Random fragment from real spectrum added.\n",
      "Suitable fragment candidate not found. Random fragment from real spectrum added.\n",
      "Suitable fragment candidate not found. Random fragment from real spectrum added.\n",
      "Suitable fragment candidate not found. Random fragment from real spectrum added.\n",
      "Suitable fragment candidate not found. Random fragment from real spectrum added.\n",
      "Suitable fragment candidate not found. Random fragment from real spectrum added.\n",
      "Suitable fragment candidate not found. Random fragment from real spectrum added.\n",
      "Suitable fragment candidate not found. Random fragment from real spectrum added.\n",
      "Suitable fragment candidate not found. Random fragment from real spectrum added.\n",
      "Suitable fragment candidate not found. Random fragment from real spectrum added.\n",
      "Suitable fragment candidate not found. Random fragment from real spectrum added.\n",
      "Suitable fragment candidate not found. Random fragment from real spectrum added.\n",
      "Suitable fragment candidate not found. Random fragment from real spectrum added.\n",
      "Suitable fragment candidate not found. Random fragment from real spectrum added.\n",
      "Suitable fragment candidate not found. Random fragment from real spectrum added.\n",
      "Suitable fragment candidate not found. Random fragment from real spectrum added.\n",
      "Suitable fragment candidate not found. Random fragment from real spectrum added.\n",
      "Suitable fragment candidate not found. Random fragment from real spectrum added.\n",
      "Suitable fragment candidate not found. Random fragment from real spectrum added.\n",
      "Suitable fragment candidate not found. Random fragment from real spectrum added.\n",
      "Suitable fragment candidate not found. Random fragment from real spectrum added.\n",
      "Suitable fragment candidate not found. Random fragment from real spectrum added.\n",
      "Suitable fragment candidate not found. Random fragment from real spectrum added.\n",
      "Suitable fragment candidate not found. Random fragment from real spectrum added.\n",
      "Suitable fragment candidate not found. Random fragment from real spectrum added.\n",
      "Suitable fragment candidate not found. Random fragment from real spectrum added.\n",
      "Suitable fragment candidate not found. Random fragment from real spectrum added.\n",
      "Suitable fragment candidate not found. Random fragment from real spectrum added.\n",
      "Suitable fragment candidate not found. Random fragment from real spectrum added.\n",
      "Suitable fragment candidate not found. Random fragment from real spectrum added.\n",
      "Suitable fragment candidate not found. Random fragment from real spectrum added.\n",
      "Suitable fragment candidate not found. Random fragment from real spectrum added.\n",
      "Suitable fragment candidate not found. Random fragment from real spectrum added.\n",
      "Suitable fragment candidate not found. Random fragment from real spectrum added.\n",
      "Suitable fragment candidate not found. Random fragment from real spectrum added.\n",
      "Suitable fragment candidate not found. Random fragment from real spectrum added.\n",
      "Suitable fragment candidate not found. Random fragment from real spectrum added.\n",
      "Suitable fragment candidate not found. Random fragment from real spectrum added.\n",
      "Suitable fragment candidate not found. Random fragment from real spectrum added.\n",
      "Suitable fragment candidate not found. Random fragment from real spectrum added.\n",
      "Suitable fragment candidate not found. Random fragment from real spectrum added.\n",
      "Suitable fragment candidate not found. Random fragment from real spectrum added.\n",
      "Suitable fragment candidate not found. Random fragment from real spectrum added.\n",
      "Suitable fragment candidate not found. Random fragment from real spectrum added.\n",
      "Suitable fragment candidate not found. Random fragment from real spectrum added.\n",
      "Suitable fragment candidate not found. Random fragment from real spectrum added.\n",
      "Suitable fragment candidate not found. Random fragment from real spectrum added.\n",
      "Suitable fragment candidate not found. Random fragment from real spectrum added.\n",
      "Suitable fragment candidate not found. Random fragment from real spectrum added.\n",
      "Suitable fragment candidate not found. Random fragment from real spectrum added.\n",
      "Suitable fragment candidate not found. Random fragment from real spectrum added.\n",
      "Suitable fragment candidate not found. Random fragment from real spectrum added.\n",
      "Suitable fragment candidate not found. Random fragment from real spectrum added.\n",
      "Suitable fragment candidate not found. Random fragment from real spectrum added.\n",
      "Suitable fragment candidate not found. Random fragment from real spectrum added.\n",
      "Suitable fragment candidate not found. Random fragment from real spectrum added.\n",
      "Suitable fragment candidate not found. Random fragment from real spectrum added.\n",
      "Suitable fragment candidate not found. Random fragment from real spectrum added.\n",
      "Suitable fragment candidate not found. Random fragment from real spectrum added.\n",
      "Suitable fragment candidate not found. Random fragment from real spectrum added.\n",
      "Suitable fragment candidate not found. Random fragment from real spectrum added.\n",
      "Suitable fragment candidate not found. Random fragment from real spectrum added.\n",
      "Suitable fragment candidate not found. Random fragment from real spectrum added.\n",
      "Suitable fragment candidate not found. Random fragment from real spectrum added.\n",
      "Suitable fragment candidate not found. Random fragment from real spectrum added.\n",
      "Suitable fragment candidate not found. Random fragment from real spectrum added.\n",
      "Suitable fragment candidate not found. Random fragment from real spectrum added.\n",
      "Suitable fragment candidate not found. Random fragment from real spectrum added.\n",
      "Suitable fragment candidate not found. Random fragment from real spectrum added.\n",
      "Suitable fragment candidate not found. Random fragment from real spectrum added.\n",
      "Suitable fragment candidate not found. Random fragment from real spectrum added.\n",
      "Suitable fragment candidate not found. Random fragment from real spectrum added.\n",
      "Suitable fragment candidate not found. Random fragment from real spectrum added.\n",
      "Suitable fragment candidate not found. Random fragment from real spectrum added.\n",
      "Suitable fragment candidate not found. Random fragment from real spectrum added.\n"
     ]
    },
    {
     "name": "stdout",
     "output_type": "stream",
     "text": [
      "Suitable fragment candidate not found. Random fragment from real spectrum added.\n",
      "Suitable fragment candidate not found. Random fragment from real spectrum added.\n",
      "Suitable fragment candidate not found. Random fragment from real spectrum added.\n",
      "Suitable fragment candidate not found. Random fragment from real spectrum added.\n",
      "Suitable fragment candidate not found. Random fragment from real spectrum added.\n",
      "Suitable fragment candidate not found. Random fragment from real spectrum added.\n",
      "Suitable fragment candidate not found. Random fragment from real spectrum added.\n",
      "Suitable fragment candidate not found. Random fragment from real spectrum added.\n",
      "Suitable fragment candidate not found. Random fragment from real spectrum added.\n",
      "Suitable fragment candidate not found. Random fragment from real spectrum added.\n",
      "Suitable fragment candidate not found. Random fragment from real spectrum added.\n",
      "Suitable fragment candidate not found. Random fragment from real spectrum added.\n",
      "Suitable fragment candidate not found. Random fragment from real spectrum added.\n",
      "Suitable fragment candidate not found. Random fragment from real spectrum added.\n",
      "Suitable fragment candidate not found. Random fragment from real spectrum added.\n",
      "Suitable fragment candidate not found. Random fragment from real spectrum added.\n",
      "Suitable fragment candidate not found. Random fragment from real spectrum added.\n",
      "Suitable fragment candidate not found. Random fragment from real spectrum added.\n",
      "Suitable fragment candidate not found. Random fragment from real spectrum added.\n",
      "Suitable fragment candidate not found. Random fragment from real spectrum added.\n",
      "Suitable fragment candidate not found. Random fragment from real spectrum added.\n",
      "Suitable fragment candidate not found. Random fragment from real spectrum added.\n",
      "Suitable fragment candidate not found. Random fragment from real spectrum added.\n",
      "Suitable fragment candidate not found. Random fragment from real spectrum added.\n",
      "Suitable fragment candidate not found. Random fragment from real spectrum added.\n",
      "Suitable fragment candidate not found. Random fragment from real spectrum added.\n",
      "Suitable fragment candidate not found. Random fragment from real spectrum added.\n",
      "Suitable fragment candidate not found. Random fragment from real spectrum added.\n",
      "Suitable fragment candidate not found. Random fragment from real spectrum added.\n",
      "Suitable fragment candidate not found. Random fragment from real spectrum added.\n",
      "Suitable fragment candidate not found. Random fragment from real spectrum added.\n",
      "Suitable fragment candidate not found. Random fragment from real spectrum added.\n",
      "Suitable fragment candidate not found. Random fragment from real spectrum added.\n",
      "Suitable fragment candidate not found. Random fragment from real spectrum added.\n",
      "Suitable fragment candidate not found. Random fragment from real spectrum added.\n",
      "Suitable fragment candidate not found. Random fragment from real spectrum added.\n",
      "Suitable fragment candidate not found. Random fragment from real spectrum added.\n",
      "Suitable fragment candidate not found. Random fragment from real spectrum added.\n",
      "Suitable fragment candidate not found. Random fragment from real spectrum added.\n",
      "Suitable fragment candidate not found. Random fragment from real spectrum added.\n",
      "Suitable fragment candidate not found. Random fragment from real spectrum added.\n",
      "Suitable fragment candidate not found. Random fragment from real spectrum added.\n",
      "Suitable fragment candidate not found. Random fragment from real spectrum added.\n",
      "Suitable fragment candidate not found. Random fragment from real spectrum added.\n",
      "Suitable fragment candidate not found. Random fragment from real spectrum added.\n",
      "Suitable fragment candidate not found. Random fragment from real spectrum added.\n",
      "Suitable fragment candidate not found. Random fragment from real spectrum added.\n",
      "Suitable fragment candidate not found. Random fragment from real spectrum added.\n",
      "Suitable fragment candidate not found. Random fragment from real spectrum added.\n",
      "Suitable fragment candidate not found. Random fragment from real spectrum added.\n",
      "Suitable fragment candidate not found. Random fragment from real spectrum added.\n",
      "Suitable fragment candidate not found. Random fragment from real spectrum added.\n",
      "Suitable fragment candidate not found. Random fragment from real spectrum added.\n",
      "Suitable fragment candidate not found. Random fragment from real spectrum added.\n",
      "Suitable fragment candidate not found. Random fragment from real spectrum added.\n",
      "Suitable fragment candidate not found. Random fragment from real spectrum added.\n",
      "Suitable fragment candidate not found. Random fragment from real spectrum added.\n",
      "Suitable fragment candidate not found. Random fragment from real spectrum added.\n",
      "Suitable fragment candidate not found. Random fragment from real spectrum added.\n",
      "Suitable fragment candidate not found. Random fragment from real spectrum added.\n",
      "Suitable fragment candidate not found. Random fragment from real spectrum added.\n",
      "Suitable fragment candidate not found. Random fragment from real spectrum added.\n",
      "Suitable fragment candidate not found. Random fragment from real spectrum added.\n",
      "Suitable fragment candidate not found. Random fragment from real spectrum added.\n",
      "Suitable fragment candidate not found. Random fragment from real spectrum added.\n",
      "Suitable fragment candidate not found. Random fragment from real spectrum added.\n",
      "Suitable fragment candidate not found. Random fragment from real spectrum added.\n",
      "Suitable fragment candidate not found. Random fragment from real spectrum added.\n",
      "Suitable fragment candidate not found. Random fragment from real spectrum added.\n",
      "Suitable fragment candidate not found. Random fragment from real spectrum added.\n",
      "Suitable fragment candidate not found. Random fragment from real spectrum added.\n",
      "Suitable fragment candidate not found. Random fragment from real spectrum added.\n",
      "Suitable fragment candidate not found. Random fragment from real spectrum added.\n",
      "Suitable fragment candidate not found. Random fragment from real spectrum added.\n",
      "Suitable fragment candidate not found. Random fragment from real spectrum added.\n",
      "Suitable fragment candidate not found. Random fragment from real spectrum added.\n",
      "Suitable fragment candidate not found. Random fragment from real spectrum added.\n",
      "Suitable fragment candidate not found. Random fragment from real spectrum added.\n",
      "Suitable fragment candidate not found. Random fragment from real spectrum added.\n",
      "Suitable fragment candidate not found. Random fragment from real spectrum added.\n",
      "Suitable fragment candidate not found. Random fragment from real spectrum added.\n",
      "Suitable fragment candidate not found. Random fragment from real spectrum added.\n",
      "Suitable fragment candidate not found. Random fragment from real spectrum added.\n",
      "Suitable fragment candidate not found. Random fragment from real spectrum added.\n",
      "Suitable fragment candidate not found. Random fragment from real spectrum added.\n",
      "Suitable fragment candidate not found. Random fragment from real spectrum added.\n",
      "Suitable fragment candidate not found. Random fragment from real spectrum added.\n",
      "Suitable fragment candidate not found. Random fragment from real spectrum added.\n",
      "Suitable fragment candidate not found. Random fragment from real spectrum added.\n",
      "Suitable fragment candidate not found. Random fragment from real spectrum added.\n",
      "Suitable fragment candidate not found. Random fragment from real spectrum added.\n",
      "Suitable fragment candidate not found. Random fragment from real spectrum added.\n",
      "Suitable fragment candidate not found. Random fragment from real spectrum added.\n",
      "Suitable fragment candidate not found. Random fragment from real spectrum added.\n",
      "Suitable fragment candidate not found. Random fragment from real spectrum added.\n",
      "Suitable fragment candidate not found. Random fragment from real spectrum added.\n",
      "Suitable fragment candidate not found. Random fragment from real spectrum added.\n",
      "Suitable fragment candidate not found. Random fragment from real spectrum added.\n",
      "Suitable fragment candidate not found. Random fragment from real spectrum added.\n",
      "Suitable fragment candidate not found. Random fragment from real spectrum added.\n",
      "Suitable fragment candidate not found. Random fragment from real spectrum added.\n",
      "Suitable fragment candidate not found. Random fragment from real spectrum added.\n"
     ]
    },
    {
     "name": "stdout",
     "output_type": "stream",
     "text": [
      "Suitable fragment candidate not found. Random fragment from real spectrum added.\n",
      "Suitable fragment candidate not found. Random fragment from real spectrum added.\n",
      "Suitable fragment candidate not found. Random fragment from real spectrum added.\n",
      "Suitable fragment candidate not found. Random fragment from real spectrum added.\n",
      "Suitable fragment candidate not found. Random fragment from real spectrum added.\n",
      "Suitable fragment candidate not found. Random fragment from real spectrum added.\n",
      "Suitable fragment candidate not found. Random fragment from real spectrum added.\n",
      "Suitable fragment candidate not found. Random fragment from real spectrum added.\n",
      "Suitable fragment candidate not found. Random fragment from real spectrum added.\n",
      "Suitable fragment candidate not found. Random fragment from real spectrum added.\n",
      "Suitable fragment candidate not found. Random fragment from real spectrum added.\n",
      "Suitable fragment candidate not found. Random fragment from real spectrum added.\n",
      "Suitable fragment candidate not found. Random fragment from real spectrum added.\n",
      "Suitable fragment candidate not found. Random fragment from real spectrum added.\n",
      "Suitable fragment candidate not found. Random fragment from real spectrum added.\n",
      "Suitable fragment candidate not found. Random fragment from real spectrum added.\n",
      "Suitable fragment candidate not found. Random fragment from real spectrum added.\n",
      "Suitable fragment candidate not found. Random fragment from real spectrum added.\n",
      "Suitable fragment candidate not found. Random fragment from real spectrum added.\n",
      "Suitable fragment candidate not found. Random fragment from real spectrum added.\n",
      "Suitable fragment candidate not found. Random fragment from real spectrum added.\n",
      "Suitable fragment candidate not found. Random fragment from real spectrum added.\n",
      "Suitable fragment candidate not found. Random fragment from real spectrum added.\n",
      "Suitable fragment candidate not found. Random fragment from real spectrum added.\n",
      "Suitable fragment candidate not found. Random fragment from real spectrum added.\n",
      "Suitable fragment candidate not found. Random fragment from real spectrum added.\n",
      "Suitable fragment candidate not found. Random fragment from real spectrum added.\n",
      "Suitable fragment candidate not found. Random fragment from real spectrum added.\n",
      "Suitable fragment candidate not found. Random fragment from real spectrum added.\n",
      "Suitable fragment candidate not found. Random fragment from real spectrum added.\n",
      "Suitable fragment candidate not found. Random fragment from real spectrum added.\n",
      "Suitable fragment candidate not found. Random fragment from real spectrum added.\n",
      "Suitable fragment candidate not found. Random fragment from real spectrum added.\n",
      "Suitable fragment candidate not found. Random fragment from real spectrum added.\n",
      "Suitable fragment candidate not found. Random fragment from real spectrum added.\n",
      "Suitable fragment candidate not found. Random fragment from real spectrum added.\n",
      "Suitable fragment candidate not found. Random fragment from real spectrum added.\n",
      "Suitable fragment candidate not found. Random fragment from real spectrum added.\n",
      "Suitable fragment candidate not found. Random fragment from real spectrum added.\n",
      "Suitable fragment candidate not found. Random fragment from real spectrum added.\n",
      "Suitable fragment candidate not found. Random fragment from real spectrum added.\n",
      "Suitable fragment candidate not found. Random fragment from real spectrum added.\n",
      "Suitable fragment candidate not found. Random fragment from real spectrum added.\n",
      "Suitable fragment candidate not found. Random fragment from real spectrum added.\n",
      "Suitable fragment candidate not found. Random fragment from real spectrum added.\n",
      "Suitable fragment candidate not found. Random fragment from real spectrum added.\n",
      "Suitable fragment candidate not found. Random fragment from real spectrum added.\n",
      "Suitable fragment candidate not found. Random fragment from real spectrum added.\n",
      "Suitable fragment candidate not found. Random fragment from real spectrum added.\n",
      "Suitable fragment candidate not found. Random fragment from real spectrum added.\n",
      "Suitable fragment candidate not found. Random fragment from real spectrum added.\n",
      "Suitable fragment candidate not found. Random fragment from real spectrum added.\n",
      "Suitable fragment candidate not found. Random fragment from real spectrum added.\n",
      "Suitable fragment candidate not found. Random fragment from real spectrum added.\n",
      "Suitable fragment candidate not found. Random fragment from real spectrum added.\n",
      "Suitable fragment candidate not found. Random fragment from real spectrum added.\n",
      "Suitable fragment candidate not found. Random fragment from real spectrum added.\n",
      "Suitable fragment candidate not found. Random fragment from real spectrum added.\n",
      "Suitable fragment candidate not found. Random fragment from real spectrum added.\n",
      "Suitable fragment candidate not found. Random fragment from real spectrum added.\n",
      "Suitable fragment candidate not found. Random fragment from real spectrum added.\n",
      "Suitable fragment candidate not found. Random fragment from real spectrum added.\n",
      "Suitable fragment candidate not found. Random fragment from real spectrum added.\n",
      "Suitable fragment candidate not found. Random fragment from real spectrum added.\n",
      "Suitable fragment candidate not found. Random fragment from real spectrum added.\n",
      "Suitable fragment candidate not found. Random fragment from real spectrum added.\n",
      "Suitable fragment candidate not found. Random fragment from real spectrum added.\n",
      "Suitable fragment candidate not found. Random fragment from real spectrum added.\n",
      "Suitable fragment candidate not found. Random fragment from real spectrum added.\n",
      "Suitable fragment candidate not found. Random fragment from real spectrum added.\n",
      "Suitable fragment candidate not found. Random fragment from real spectrum added.\n",
      "Suitable fragment candidate not found. Random fragment from real spectrum added.\n",
      "Suitable fragment candidate not found. Random fragment from real spectrum added.\n",
      "Suitable fragment candidate not found. Random fragment from real spectrum added.\n",
      "Suitable fragment candidate not found. Random fragment from real spectrum added.\n",
      "Suitable fragment candidate not found. Random fragment from real spectrum added.\n",
      "Suitable fragment candidate not found. Random fragment from real spectrum added.\n",
      "Suitable fragment candidate not found. Random fragment from real spectrum added.\n",
      "Suitable fragment candidate not found. Random fragment from real spectrum added.\n",
      "Suitable fragment candidate not found. Random fragment from real spectrum added.\n",
      "Suitable fragment candidate not found. Random fragment from real spectrum added.\n",
      "Suitable fragment candidate not found. Random fragment from real spectrum added.\n",
      "Suitable fragment candidate not found. Random fragment from real spectrum added.\n",
      "Suitable fragment candidate not found. Random fragment from real spectrum added.\n",
      "Suitable fragment candidate not found. Random fragment from real spectrum added.\n",
      "Suitable fragment candidate not found. Random fragment from real spectrum added.\n",
      "Suitable fragment candidate not found. Random fragment from real spectrum added.\n",
      "Suitable fragment candidate not found. Random fragment from real spectrum added.\n",
      "Suitable fragment candidate not found. Random fragment from real spectrum added.\n",
      "Suitable fragment candidate not found. Random fragment from real spectrum added.\n",
      "Suitable fragment candidate not found. Random fragment from real spectrum added.\n",
      "Suitable fragment candidate not found. Random fragment from real spectrum added.\n",
      "Suitable fragment candidate not found. Random fragment from real spectrum added.\n",
      "Suitable fragment candidate not found. Random fragment from real spectrum added.\n",
      "Suitable fragment candidate not found. Random fragment from real spectrum added.\n",
      "Suitable fragment candidate not found. Random fragment from real spectrum added.\n",
      "Suitable fragment candidate not found. Random fragment from real spectrum added.\n",
      "Suitable fragment candidate not found. Random fragment from real spectrum added.\n",
      "Suitable fragment candidate not found. Random fragment from real spectrum added.\n",
      "Suitable fragment candidate not found. Random fragment from real spectrum added.\n",
      "Suitable fragment candidate not found. Random fragment from real spectrum added.\n",
      "Suitable fragment candidate not found. Random fragment from real spectrum added.\n"
     ]
    },
    {
     "name": "stdout",
     "output_type": "stream",
     "text": [
      "Suitable fragment candidate not found. Random fragment from real spectrum added.\n",
      "Suitable fragment candidate not found. Random fragment from real spectrum added.\n",
      "Suitable fragment candidate not found. Random fragment from real spectrum added.\n",
      "Suitable fragment candidate not found. Random fragment from real spectrum added.\n",
      "Suitable fragment candidate not found. Random fragment from real spectrum added.\n",
      "Suitable fragment candidate not found. Random fragment from real spectrum added.\n",
      "Suitable fragment candidate not found. Random fragment from real spectrum added.\n",
      "Suitable fragment candidate not found. Random fragment from real spectrum added.\n",
      "Suitable fragment candidate not found. Random fragment from real spectrum added.\n",
      "Suitable fragment candidate not found. Random fragment from real spectrum added.\n",
      "Suitable fragment candidate not found. Random fragment from real spectrum added.\n",
      "Suitable fragment candidate not found. Random fragment from real spectrum added.\n",
      "Suitable fragment candidate not found. Random fragment from real spectrum added.\n",
      "Suitable fragment candidate not found. Random fragment from real spectrum added.\n",
      "Suitable fragment candidate not found. Random fragment from real spectrum added.\n",
      "Suitable fragment candidate not found. Random fragment from real spectrum added.\n",
      "Suitable fragment candidate not found. Random fragment from real spectrum added.\n",
      "Suitable fragment candidate not found. Random fragment from real spectrum added.\n",
      "Suitable fragment candidate not found. Random fragment from real spectrum added.\n",
      "Suitable fragment candidate not found. Random fragment from real spectrum added.\n",
      "Suitable fragment candidate not found. Random fragment from real spectrum added.\n",
      "Suitable fragment candidate not found. Random fragment from real spectrum added.\n",
      "Suitable fragment candidate not found. Random fragment from real spectrum added.\n",
      "Suitable fragment candidate not found. Random fragment from real spectrum added.\n",
      "Suitable fragment candidate not found. Random fragment from real spectrum added.\n",
      "Suitable fragment candidate not found. Random fragment from real spectrum added.\n",
      "Suitable fragment candidate not found. Random fragment from real spectrum added.\n",
      "Suitable fragment candidate not found. Random fragment from real spectrum added.\n",
      "Suitable fragment candidate not found. Random fragment from real spectrum added.\n",
      "Suitable fragment candidate not found. Random fragment from real spectrum added.\n",
      "Suitable fragment candidate not found. Random fragment from real spectrum added.\n",
      "Suitable fragment candidate not found. Random fragment from real spectrum added.\n",
      "Suitable fragment candidate not found. Random fragment from real spectrum added.\n",
      "Suitable fragment candidate not found. Random fragment from real spectrum added.\n",
      "Suitable fragment candidate not found. Random fragment from real spectrum added.\n",
      "Suitable fragment candidate not found. Random fragment from real spectrum added.\n",
      "Suitable fragment candidate not found. Random fragment from real spectrum added.\n",
      "Suitable fragment candidate not found. Random fragment from real spectrum added.\n",
      "Suitable fragment candidate not found. Random fragment from real spectrum added.\n",
      "Suitable fragment candidate not found. Random fragment from real spectrum added.\n",
      "Suitable fragment candidate not found. Random fragment from real spectrum added.\n",
      "Suitable fragment candidate not found. Random fragment from real spectrum added.\n",
      "Suitable fragment candidate not found. Random fragment from real spectrum added.\n",
      "Suitable fragment candidate not found. Random fragment from real spectrum added.\n",
      "Suitable fragment candidate not found. Random fragment from real spectrum added.\n",
      "Suitable fragment candidate not found. Random fragment from real spectrum added.\n",
      "Suitable fragment candidate not found. Random fragment from real spectrum added.\n",
      "Suitable fragment candidate not found. Random fragment from real spectrum added.\n",
      "Suitable fragment candidate not found. Random fragment from real spectrum added.\n",
      "Suitable fragment candidate not found. Random fragment from real spectrum added.\n",
      "Suitable fragment candidate not found. Random fragment from real spectrum added.\n",
      "Suitable fragment candidate not found. Random fragment from real spectrum added.\n",
      "Suitable fragment candidate not found. Random fragment from real spectrum added.\n",
      "Suitable fragment candidate not found. Random fragment from real spectrum added.\n",
      "Suitable fragment candidate not found. Random fragment from real spectrum added.\n",
      "Suitable fragment candidate not found. Random fragment from real spectrum added.\n",
      "Suitable fragment candidate not found. Random fragment from real spectrum added.\n",
      "Suitable fragment candidate not found. Random fragment from real spectrum added.\n",
      "Suitable fragment candidate not found. Random fragment from real spectrum added.\n",
      "Suitable fragment candidate not found. Random fragment from real spectrum added.\n",
      "Suitable fragment candidate not found. Random fragment from real spectrum added.\n",
      "Suitable fragment candidate not found. Random fragment from real spectrum added.\n",
      "Suitable fragment candidate not found. Random fragment from real spectrum added.\n"
     ]
    }
   ],
   "source": [
    "from Decoy_Generation_Methods import spectrum_based_decoys\n",
    "\n",
    "#Create decoys based on the naive and spectrum-based method\n",
    "\n",
    "np.random.seed(42)                      #to make it reproducible\n",
    "spectrum_based_decoy_spectra = spectrum_based_decoys(target_spectra, initial_fragments, fragments, \n",
    "                                                     sorted_fragments, first_fragments, no_peaks_for_spectra)"
   ]
  },
  {
   "cell_type": "code",
   "execution_count": 32,
   "metadata": {},
   "outputs": [
    {
     "name": "stdout",
     "output_type": "stream",
     "text": [
      "No. naive decoys: 72181\n",
      "No. naive decoys: 72181\n"
     ]
    }
   ],
   "source": [
    "print(f'No. naive decoys: {len(naive_decoy_spectra)}')\n",
    "print(f'No. naive decoys: {len(spectrum_based_decoy_spectra)}')"
   ]
  },
  {
   "cell_type": "markdown",
   "metadata": {},
   "source": [
    "### Looking at Similarities Between Decoy and Target Spectra"
   ]
  },
  {
   "cell_type": "code",
   "execution_count": 33,
   "metadata": {},
   "outputs": [],
   "source": [
    "#Getting naive and specturm-based similarities\n",
    "\n",
    "#Naive similarities\n",
    "\n",
    "cosine_greedy = CosineGreedy(tolerance = 0.005)\n",
    "naive_similarities = [cosine_greedy(naive_decoy_spectra[i], target_spectra[i])[0] for i in range(len(target_spectra))]\n",
    "naive_similarities = np.array(naive_similarities)\n",
    "\n",
    "#Spectrum-based similarities\n",
    "\n",
    "spectrum_based_similarities = [cosine_greedy(spectrum_based_decoy_spectra[i], target_spectra[i])[0] for i in range(len(target_spectra))]\n",
    "spectrum_based_similarities = np.array(spectrum_based_similarities)"
   ]
  },
  {
   "cell_type": "code",
   "execution_count": 34,
   "metadata": {},
   "outputs": [
    {
     "data": {
      "image/png": "[encoded data removed]",
      "text/plain": [
       "<Figure size 432x288 with 1 Axes>"
      ]
     },
     "metadata": {
      "needs_background": "light"
     },
     "output_type": "display_data"
    }
   ],
   "source": [
    "#Looking at similarities between the decoy spectra and target spectra\n",
    "\n",
    "\n",
    "fig=plt.figure()\n",
    "ax=fig.add_axes([0,0,1,1])\n",
    "\n",
    "ax.hist(naive_similarities, bins=100, facecolor='red')\n",
    "\n",
    "ax.set_xlabel(\"Naive similarities\")\n",
    "ax.set_ylabel(\"Count\")\n",
    "ax.set_title(\"Histogram of naive similarities\")\n",
    "plt.savefig(\"Histogram of naive similarities.jpg\", bbox_inches='tight', dpi = 300)\n",
    "plt.show()"
   ]
  },
  {
   "cell_type": "code",
   "execution_count": 35,
   "metadata": {},
   "outputs": [
    {
     "data": {
      "image/png": "[encoded data removed]",
      "text/plain": [
       "<Figure size 432x288 with 1 Axes>"
      ]
     },
     "metadata": {
      "needs_background": "light"
     },
     "output_type": "display_data"
    }
   ],
   "source": [
    "#Histogram of similarities between spectrum-based decoy spectra and corresponding target spectra\n",
    "\n",
    "fig=plt.figure()\n",
    "ax=fig.add_axes([0,0,1,1])\n",
    "\n",
    "ax.hist(spectrum_based_similarities, bins=100, facecolor='blue')\n",
    "\n",
    "ax.set_xlabel(\"Spectrum-based similarities\")\n",
    "ax.set_ylabel(\"Count\")\n",
    "ax.set_title(\"Histogram of spectrum-based similarities\")\n",
    "plt.savefig(\"Histogram of spectrum-based similarities.jpg\", bbox_inches='tight', dpi = 300)\n",
    "plt.show()"
   ]
  },
  {
   "cell_type": "code",
   "execution_count": 36,
   "metadata": {},
   "outputs": [
    {
     "data": {
      "image/png": "[encoded data removed]",
      "text/plain": [
       "<Figure size 432x288 with 1 Axes>"
      ]
     },
     "metadata": {
      "needs_background": "light"
     },
     "output_type": "display_data"
    }
   ],
   "source": [
    "#Histogram of similarities between spectrum-based decoy spectra and naive_spectra\n",
    "\n",
    "decoy_similarities = [cosine_greedy(spectrum_based_decoy_spectra[i], naive_decoy_spectra[i])[0] for i in range(len(target_spectra))]\n",
    "decoy_similarities = np.array(decoy_similarities)\n",
    "\n",
    "\n",
    "fig=plt.figure()\n",
    "ax=fig.add_axes([0,0,1,1])\n",
    "\n",
    "ax.hist(decoy_similarities, bins=100, facecolor='orange')\n",
    "\n",
    "ax.set_xlabel(\"Similarities between naive and specturm-based decoys\")\n",
    "ax.set_ylabel(\"Count\")\n",
    "ax.set_title(\"Histogram of similarities between naive and spectrum-based decoys\")\n",
    "plt.savefig(\"Histogram of similarities between naive and spectrum-based decoys.jpg\", bbox_inches='tight', dpi = 300)\n",
    "plt.show()"
   ]
  },
  {
   "cell_type": "code",
   "execution_count": 37,
   "metadata": {},
   "outputs": [
    {
     "data": {
      "image/png": "[encoded data removed]",
      "text/plain": [
       "<Figure size 432x288 with 1 Axes>"
      ]
     },
     "metadata": {
      "needs_background": "light"
     },
     "output_type": "display_data"
    }
   ],
   "source": [
    "#Plot of naive similarities against spectrum-based similarities\n",
    "\n",
    "order = np.argsort(naive_similarities)\n",
    "naive_similarities = naive_similarities[order]\n",
    "spectrum_based_similarities = spectrum_based_similarities[order]\n",
    "\n",
    "xmax = np.max(naive_similarities)\n",
    "ymax = np.max(spectrum_based_similarities)\n",
    "ax_lim = xmax if xmax > ymax else ymax \n",
    "\n",
    "fig=plt.figure()\n",
    "ax=fig.add_axes([0,0,1,1])\n",
    "\n",
    "ax.scatter(naive_similarities, spectrum_based_similarities, color='orange')\n",
    "ax.plot([0, ax_lim], [0,ax_lim], \"r--\", color = \"black\")\n",
    "\n",
    "ax.set_xlabel(\"Naive simlarities\")\n",
    "ax.set_ylabel(\"Spetrum-based similarities\")\n",
    "ax.set_title(\"Naive similarities against spectrum-based similarities for corresponding target spectra\")\n",
    "plt.savefig(\"Naive similarities against spectrum-based similarities for corresponding target spectra.jpg\", bbox_inches='tight', dpi = 300)\n",
    "plt.show()"
   ]
  },
  {
   "cell_type": "markdown",
   "metadata": {},
   "source": [
    "## Generating Spec2Vec Knockoffs"
   ]
  },
  {
   "cell_type": "markdown",
   "metadata": {},
   "source": [
    "### Creating Spec2Vec Model"
   ]
  },
  {
   "cell_type": "code",
   "execution_count": 12,
   "metadata": {},
   "outputs": [],
   "source": [
    "from spec2vec import SpectrumDocument"
   ]
  },
  {
   "cell_type": "code",
   "execution_count": 13,
   "metadata": {},
   "outputs": [
    {
     "name": "stdout",
     "output_type": "stream",
     "text": [
      "No. query documents, no. target documents: (1000, 72181)\n"
     ]
    }
   ],
   "source": [
    "#Create target and query spectrum documents\n",
    "\n",
    "documents_target = [SpectrumDocument(s, n_decimals=2) for s in target_spectra]\n",
    "documents_query = [SpectrumDocument(s, n_decimals=2) for s in query_spectra]    \n",
    "print(f\"No. query documents, no. target documents: {len(documents_query), len(documents_target)}\")"
   ]
  },
  {
   "cell_type": "code",
   "execution_count": 39,
   "metadata": {
    "collapsed": true
   },
   "outputs": [
    {
     "name": "stdout",
     "output_type": "stream",
     "text": [
      "The value of size is set from 300 (default) to 10\n",
      "  Epoch 1 of 20.Change in loss after epoch 1: 5341984.0\n",
      "Saving model with name: C:\\Users\\ashou\\Downloads\\FDR_Metabolomics\\Trained_Models\\librarymatching_size_10_iter_1.model\n",
      "  Epoch 2 of 20.Change in loss after epoch 2: 4275092.0\n",
      "  Epoch 3 of 20.Change in loss after epoch 3: 3849049.0\n",
      "Saving model with name: C:\\Users\\ashou\\Downloads\\FDR_Metabolomics\\Trained_Models\\librarymatching_size_10_iter_3.model\n",
      "  Epoch 4 of 20.Change in loss after epoch 4: 3822889.0\n",
      "  Epoch 5 of 20.Change in loss after epoch 5: 3205800.0\n",
      "Saving model with name: C:\\Users\\ashou\\Downloads\\FDR_Metabolomics\\Trained_Models\\librarymatching_size_10_iter_5.model\n",
      "  Epoch 6 of 20.Change in loss after epoch 6: 3120934.0\n",
      "  Epoch 7 of 20.Change in loss after epoch 7: 3207378.0\n",
      "  Epoch 8 of 20.Change in loss after epoch 8: 3166542.0\n",
      "  Epoch 9 of 20.Change in loss after epoch 9: 3207452.0\n",
      "  Epoch 10 of 20.Change in loss after epoch 10: 1928220.0\n",
      "Saving model with name: C:\\Users\\ashou\\Downloads\\FDR_Metabolomics\\Trained_Models\\librarymatching_size_10_iter_10.model\n",
      "  Epoch 11 of 20.Change in loss after epoch 11: 1717400.0\n",
      "  Epoch 12 of 20.Change in loss after epoch 12: 1742100.0\n",
      "  Epoch 13 of 20.Change in loss after epoch 13: 1738392.0\n",
      "  Epoch 14 of 20.Change in loss after epoch 14: 1751172.0\n",
      "  Epoch 15 of 20.Change in loss after epoch 15: 1737924.0\n",
      "Saving model with name: C:\\Users\\ashou\\Downloads\\FDR_Metabolomics\\Trained_Models\\librarymatching_size_10_iter_15.model\n",
      "  Epoch 16 of 20.Change in loss after epoch 16: 1733300.0\n",
      "  Epoch 17 of 20.Change in loss after epoch 17: 1716772.0\n",
      "  Epoch 18 of 20.Change in loss after epoch 18: 1736264.0\n",
      "  Epoch 19 of 20.Change in loss after epoch 19: 1716392.0\n",
      "  Epoch 20 of 20.Change in loss after epoch 20: 1746528.0\n",
      "Saving model with name: C:\\Users\\ashou\\Downloads\\FDR_Metabolomics\\Trained_Models\\librarymatching_size_10.model\n"
     ]
    }
   ],
   "source": [
    "#Creating model with 10 dimensions in the embedding space\n",
    "\n",
    "from spec2vec.model_building import train_new_word2vec_model\n",
    "\n",
    "path_models = os.path.join(ROOT, \"Trained_Models\")\n",
    "model_file = os.path.join(path_models, \"spec2vec_librarymatching_size_10.model\")\n",
    "\n",
    "iterations = [1, 3, 5, 10, 15, 20]\n",
    "\n",
    "#Train model with size 10 and default parameters\n",
    "\n",
    "model_s2v = train_new_word2vec_model(documents_target, iterations, model_file, size = 10)"
   ]
  },
  {
   "cell_type": "markdown",
   "metadata": {},
   "source": [
    "### Creating Knockoffs"
   ]
  },
  {
   "cell_type": "code",
   "execution_count": 15,
   "metadata": {},
   "outputs": [],
   "source": [
    "import gensim\n",
    "from sklearn.mixture import GaussianMixture as GMM\n",
    "from spec2vec import calc_vector"
   ]
  },
  {
   "cell_type": "code",
   "execution_count": 16,
   "metadata": {},
   "outputs": [],
   "source": [
    "#Load model\n",
    "\n",
    "model_file = os.path.join(path_models, \"spec2vec_librarymatching_size_10.model\")\n",
    "model_s2v = gensim.models.Word2Vec.load(model_file)"
   ]
  },
  {
   "cell_type": "code",
   "execution_count": 18,
   "metadata": {},
   "outputs": [
    {
     "name": "stdout",
     "output_type": "stream",
     "text": [
      "Found 2 word(s) missing in the model. Weighted fraction not covered is 0.41%.\n",
      "Found 1 word(s) missing in the model. Weighted fraction not covered is 0.24%.\n",
      "Found 3 word(s) missing in the model. Weighted fraction not covered is 1.44%.\n",
      "Found 1 word(s) missing in the model. Weighted fraction not covered is 14.38%.\n",
      "Found 2 word(s) missing in the model. Weighted fraction not covered is 0.41%.\n",
      "Found 2 word(s) missing in the model. Weighted fraction not covered is 0.31%.\n",
      "Found 2 word(s) missing in the model. Weighted fraction not covered is 0.50%.\n",
      "Found 1 word(s) missing in the model. Weighted fraction not covered is 11.70%.\n",
      "Found 1 word(s) missing in the model. Weighted fraction not covered is 0.19%.\n",
      "Found 3 word(s) missing in the model. Weighted fraction not covered is 0.97%.\n"
     ]
    }
   ],
   "source": [
    "#Get spec2vec vectors for target and query spectra\n",
    "\n",
    "target_vectors = [calc_vector(model_s2v, s, intensity_weighting_power=0.5, allowed_missing_percentage=15.0) for s in documents_target]\n",
    "query_vectors = [calc_vector(model_s2v, s, intensity_weighting_power=0.5, allowed_missing_percentage=15.0) for s in documents_query]\n",
    "target_vectors = np.array(target_vectors)\n",
    "query_vectors = np.array(query_vectors)"
   ]
  },
  {
   "cell_type": "code",
   "execution_count": 19,
   "metadata": {},
   "outputs": [],
   "source": [
    "#Fitting Gaussian mixture model with 25 components, full covariance structure\n",
    "\n",
    "no_comp = 25   #no components\n",
    "gmm = GMM(n_components=no_comp, covariance_type=\"full\")\n",
    "model = gmm.fit(target_vectors)"
   ]
  },
  {
   "cell_type": "code",
   "execution_count": 28,
   "metadata": {},
   "outputs": [
    {
     "name": "stdout",
     "output_type": "stream",
     "text": [
      "No. knockoffs created: 72181\n"
     ]
    }
   ],
   "source": [
    "#Generating knockoffs from GMM\n",
    "\n",
    "from Create_Knockoffs import create_knockoffs\n",
    "\n",
    "knockoffs = create_knockoffs(model, target_vectors)\n",
    "print(f'No. knockoffs created: {len(knockoffs)}')"
   ]
  },
  {
   "cell_type": "markdown",
   "metadata": {},
   "source": [
    "### Looking at Similarities Between Target and Knockoff Spectra in the Embedding Space"
   ]
  },
  {
   "cell_type": "code",
   "execution_count": 29,
   "metadata": {},
   "outputs": [
    {
     "data": {
      "image/png": "[encoded data removed]",
      "text/plain": [
       "<Figure size 432x288 with 1 Axes>"
      ]
     },
     "metadata": {
      "needs_background": "light"
     },
     "output_type": "display_data"
    }
   ],
   "source": [
    "#Histogram of s2v_scores for knockoffs and their corresponding library embedding\n",
    "\n",
    "#spec2vec score function can't be used directly here as our knockoffs are not spectrum documents\n",
    "#Future changes may include storing the knockoffs as spectrum documents\n",
    "\n",
    "import scipy \n",
    "\n",
    "def s2v_score(embedding_1, embedding_2):\n",
    "    \n",
    "    cdist = scipy.spatial.distance.cosine(embedding_1, embedding_2)\n",
    "    return (1-cdist)\n",
    "\n",
    "\n",
    "knockoff_similarities = [s2v_score(knockoffs[i], target_vectors[i]) for i in range(len(target_vectors))]\n",
    "knockoff_similarities = np.array(knockoff_similarities)\n",
    "\n",
    "#Plotting histogram\n",
    "\n",
    "fig=plt.figure()\n",
    "ax=fig.add_axes([0,0,1,1])\n",
    "\n",
    "ax.hist(knockoff_similarities, bins=100, facecolor='green')\n",
    "\n",
    "ax.set_xlabel(\"Knockoff similarities\")\n",
    "ax.set_ylabel(\"Count\")\n",
    "ax.set_title(\"Histogram of knockoff similarities\")\n",
    "plt.savefig(\"Histogram of knockoff similarities with 25 Gaussian components.jpg\", bbox_inches='tight', dpi = 300)\n",
    "plt.show()"
   ]
  },
  {
   "cell_type": "markdown",
   "metadata": {},
   "source": [
    "## FDR Estimation"
   ]
  },
  {
   "cell_type": "code",
   "execution_count": 38,
   "metadata": {},
   "outputs": [],
   "source": [
    "#Get merged hits for naive, and spectrum-based decoys, and knockoffs\n",
    "\n",
    "from FDR_Estimation import get_hits_decoy\n",
    "from FDR_Estimation import get_hits_knockoff\n",
    "\n",
    "#Naive decoy hits\n",
    "\n",
    "cosine_greedy = CosineGreedy(tolerance = 0.005)\n",
    "naive_decoy_hits = get_hits_decoy(query_spectra, naive_decoy_spectra, cosine_greedy, type_hit = False)\n",
    "target_hits = get_hits_decoy(query_spectra, target_spectra, cosine_greedy, type_hit = True)\n",
    "naive_all_hits = pd.concat([naive_decoy_hits, target_hits], ignore_index = True)\n",
    "naive_all_hits = naive_all_hits.sort_values(by = [\"Cosine Score\"], ascending= False)\n",
    "\n",
    "\n",
    "#Spectrum-based decoy hits\n",
    "\n",
    "spectrum_based_decoy_hits = get_hits_decoy(query_spectra, spectrum_based_decoy_spectra,  cosine_greedy, type_hit = False)\n",
    "spectrum_based_all_hits = pd.concat([spectrum_based_decoy_hits, target_hits], ignore_index = True)\n",
    "spectrum_based_all_hits = spectrum_based_all_hits.sort_values(by = [\"Cosine Score\"], ascending= False)\n",
    "\n",
    "#Knockoff hits\n",
    "\n",
    "knockoff_hits = get_hits_knockoff(query_vectors, documents_query, knockoffs, documents_target, s2v_score, type_hit = False)\n",
    "target_hits = get_hits_knockoff(query_vectors, documents_query, target_vectors, documents_target, s2v_score, type_hit = True)\n",
    "knockoff_all_hits = pd.concat([knockoff_hits, target_hits], ignore_index = True)\n",
    "knockoff_all_hits = knockoff_all_hits.sort_values(by = [\"Cosine Score\"], ascending= False)"
   ]
  },
  {
   "cell_type": "markdown",
   "metadata": {},
   "source": [
    "### Estimating Q-Values"
   ]
  },
  {
   "cell_type": "code",
   "execution_count": 40,
   "metadata": {},
   "outputs": [],
   "source": [
    "#Getting the FDR for hits\n",
    "#The FDRs are for hits are in order of sorted hits\n",
    "\n",
    "from FDR_Estimation import estimate_FDR\n",
    "\n",
    "estimated_FDRs_for_naive_hits = []\n",
    "estimated_FDRs_for_spectrum_based_hits = []\n",
    "estimated_FDRs_for_knockoff_hits = []\n",
    "no_hits = len(knockoff_all_hits.index)\n",
    "for i in range(1, no_hits + 1):\n",
    "    \n",
    "    hits_above_naive = naive_all_hits[0:i]\n",
    "    hits_above_spectrum_based = spectrum_based_all_hits[0:i]\n",
    "    hits_above_knockoff = knockoff_all_hits[0:i]    \n",
    "    FDR_naive = estimate_FDR(hits_above_naive)\n",
    "    FDR_spectrum_based = estimate_FDR(hits_above_spectrum_based)\n",
    "    FDR_knockoff = estimate_FDR(hits_above_knockoff)\n",
    "    estimated_FDRs_for_naive_hits.append(FDR_naive)\n",
    "    estimated_FDRs_for_spectrum_based_hits.append(FDR_spectrum_based)\n",
    "    estimated_FDRs_for_knockoff_hits.append(FDR_knockoff)\n"
   ]
  },
  {
   "cell_type": "code",
   "execution_count": 41,
   "metadata": {},
   "outputs": [],
   "source": [
    "#Estimating q-values for target and decoy hits for query spectra \n",
    "#(Using both the naive and spectrum-based method of decoy generartion)\n",
    "\n",
    "#For the naive method\n",
    "#Going through each hit from all hits, and find their q-value:\n",
    "#Go through all the possible score thresholds.\n",
    "#Calculate their FDRs.\n",
    "#The min. FDR at which this hit is in the output list is the q-value.\n",
    "\n",
    "naive_estimated_q_values = []\n",
    "spectrum_based_estimated_q_values = []\n",
    "knockoff_estimated_q_values = []\n",
    "for i in range(0, no_hits):\n",
    "    \n",
    "    naive_estimated_q_value = min(estimated_FDRs_for_naive_hits[i:no_hits])\n",
    "    naive_estimated_q_values.append(naive_estimated_q_value)\n",
    "    spectrum_based_estimated_q_value = min(estimated_FDRs_for_spectrum_based_hits[i:no_hits])\n",
    "    spectrum_based_estimated_q_values.append(spectrum_based_estimated_q_value)\n",
    "    knockoff_estimated_q_value = min(estimated_FDRs_for_knockoff_hits[i:no_hits])\n",
    "    knockoff_estimated_q_values.append(knockoff_estimated_q_value)"
   ]
  },
  {
   "cell_type": "markdown",
   "metadata": {},
   "source": [
    "### Calculating True Q-Values"
   ]
  },
  {
   "cell_type": "code",
   "execution_count": 42,
   "metadata": {},
   "outputs": [],
   "source": [
    "#Getting the FDR for hits\n",
    "#The FDRs are for hits a re in order of sorted hits\n",
    "\n",
    "from FDR_Estimation import calculate_FDR\n",
    "\n",
    "true_FDRs_for_naive_hits = []\n",
    "true_FDRs_for_spectrum_based_hits = []\n",
    "true_FDRs_for_knockoff_hits = []\n",
    "for i in range(1, no_hits + 1):\n",
    "    \n",
    "    hits_above_naive = naive_all_hits[0:i]\n",
    "    hits_above_spectrum_based = spectrum_based_all_hits[0:i]\n",
    "    hits_above_knockoff = knockoff_all_hits[0:i]\n",
    "    FDR_naive = calculate_FDR(hits_above_naive)\n",
    "    FDR_spectrum_based = calculate_FDR(hits_above_spectrum_based)\n",
    "    FDR_knockoff = calculate_FDR(hits_above_knockoff)\n",
    "    true_FDRs_for_naive_hits.append(FDR_naive)\n",
    "    true_FDRs_for_spectrum_based_hits.append(FDR_spectrum_based)\n",
    "    true_FDRs_for_knockoff_hits.append(FDR_knockoff)\n"
   ]
  },
  {
   "cell_type": "code",
   "execution_count": 43,
   "metadata": {},
   "outputs": [],
   "source": [
    "#Estimating q-values for target and decoy hits for query spectra \n",
    "#(Using both the naive and spectrum-based method of decoy generartion)\n",
    "\n",
    "#For the naive method\n",
    "#Going through each hit from all hits, and find their q-value:\n",
    "#Go through all the possible score thresholds.\n",
    "#Calculate their FDRs.\n",
    "#The min. FDR at which this hit is in the output list is the q-value.\n",
    "\n",
    "naive_true_q_values = []\n",
    "spectrum_based_true_q_values = []\n",
    "knockoff_true_q_values = []\n",
    "for i in range(0, no_hits):\n",
    "    \n",
    "    naive_true_q_value = min(true_FDRs_for_naive_hits[i:no_hits])\n",
    "    naive_true_q_values.append(naive_true_q_value)\n",
    "    spectrum_based_true_q_value = min(true_FDRs_for_spectrum_based_hits[i:no_hits])\n",
    "    spectrum_based_true_q_values.append(spectrum_based_true_q_value)\n",
    "    knockoff_true_q_value = min(true_FDRs_for_knockoff_hits[i:no_hits])\n",
    "    knockoff_true_q_values.append(knockoff_true_q_value)"
   ]
  },
  {
   "cell_type": "markdown",
   "metadata": {},
   "source": [
    "### QQ-plots of True Q-Values vs. Estimated Q-Values"
   ]
  },
  {
   "cell_type": "code",
   "execution_count": 45,
   "metadata": {},
   "outputs": [],
   "source": [
    "#Removing nans from q-values\n",
    "\n",
    "#For naive method\n",
    "\n",
    "naive_estimated_q_values = np.array(naive_estimated_q_values)\n",
    "naive_true_q_values = np.array(naive_true_q_values)\n",
    "\n",
    "naive_estimated_non_nans = np.where(~np.isnan(naive_estimated_q_values))[0]\n",
    "naive_true_non_nans = np.where(~np.isnan(naive_true_q_values))[0]\n",
    "naive_non_nans = np.intersect1d(naive_estimated_non_nans, naive_true_non_nans, assume_unique = True)\n",
    "naive_estimated_q_values = naive_estimated_q_values[naive_non_nans]\n",
    "naive_true_q_values = naive_true_q_values[naive_non_nans]\n",
    "\n",
    "#For spectrum-based method\n",
    "\n",
    "spectrum_based_estimated_q_values = np.array(spectrum_based_estimated_q_values)\n",
    "spectrum_based_true_q_values = np.array(spectrum_based_true_q_values)\n",
    "\n",
    "spectrum_based_estimated_non_nans = np.where(~np.isnan(spectrum_based_estimated_q_values))[0]\n",
    "spectrum_based_true_non_nans = np.where(~np.isnan(spectrum_based_true_q_values))[0]\n",
    "spectrum_based_non_nans = np.intersect1d(spectrum_based_estimated_non_nans, spectrum_based_true_non_nans, assume_unique = True)\n",
    "spectrum_based_estimated_q_values = spectrum_based_estimated_q_values[spectrum_based_non_nans]\n",
    "spectrum_based_true_q_values = spectrum_based_true_q_values[spectrum_based_non_nans]\n",
    "\n",
    "#For knockoff method\n",
    "\n",
    "knockoff_estimated_q_values = np.array(knockoff_estimated_q_values)\n",
    "knockoff_true_q_values = np.array(knockoff_true_q_values)\n",
    "\n",
    "knockoff_estimated_non_nans = np.where(~np.isnan(knockoff_estimated_q_values))[0]\n",
    "knockoff_true_non_nans = np.where(~np.isnan(knockoff_true_q_values))[0]\n",
    "knockoff_non_nans = np.intersect1d(knockoff_estimated_non_nans, knockoff_true_non_nans, assume_unique = True)\n",
    "knockoff_estimated_q_values = knockoff_estimated_q_values[knockoff_non_nans]\n",
    "knockoff_true_q_values = knockoff_true_q_values[knockoff_non_nans]"
   ]
  },
  {
   "cell_type": "code",
   "execution_count": 61,
   "metadata": {},
   "outputs": [
    {
     "data": {
      "image/png": "[encoded data removed]",
      "text/plain": [
       "<Figure size 432x288 with 1 Axes>"
      ]
     },
     "metadata": {
      "needs_background": "light"
     },
     "output_type": "display_data"
    }
   ],
   "source": [
    "#QQ-plots of true qq-values against estimated q-values.\n",
    "#For both the naive and spectrum-based methods of decoy generation\n",
    "\n",
    "#Producing QQ-plot for the two decoy methods and knockoff method\n",
    "\n",
    "xmax = np.max(np.concatenate((naive_estimated_q_values, spectrum_based_estimated_q_values, knockoff_estimated_q_values)))\n",
    "ymax = np.max(np.concatenate((naive_true_q_values, spectrum_based_true_q_values, knockoff_true_q_values)))\n",
    "ax_lim = xmax if xmax > ymax else ymax \n",
    "\n",
    "fig=plt.figure()\n",
    "ax=fig.add_axes([0,0,1,1])\n",
    "#ax.scatter(naive_true_q_values, naive_estimated_q_values, color = \"r\", s=20)\n",
    "#ax.scatter(spectrum_based_true_q_values, spectrum_based_estimated_q_values, color = \"b\", s=20)\n",
    "#ax.scatter(knockoff_true_q_values, knockoff_estimated_q_values, color = \"g\", s=20)\n",
    "ax.plot(naive_true_q_values, naive_estimated_q_values, color = \"r\", label = \"Naive Method\")\n",
    "ax.plot(spectrum_based_true_q_values, spectrum_based_estimated_q_values, color = \"b\", label = \"Spectrum-Based Method\")\n",
    "ax.plot(knockoff_true_q_values, knockoff_estimated_q_values, color = \"green\", label = \"Knockoff Method\")\n",
    "ax.plot([0, ax_lim], [0,ax_lim], \"r--\", color = \"black\")\n",
    "\n",
    "#ax.set_xlim(0, ax_lim)\n",
    "#ax.set_ylim(0, ax_lim)\n",
    "ax.set_ylabel('Estimated q-values')\n",
    "ax.set_xlabel('True q-values')\n",
    "ax.set_title('QQ-plot of True Q-Values vs. Estimated Q-Values')\n",
    "ax.legend(loc=\"best\")\n",
    "plt.savefig(\"QQ-plot of True Q-Values vs. Estimated Q-Values.jpg\", bbox_inches = \"tight\", dpi = 300)\n",
    "plt.show()\n"
   ]
  }
 ],
 "metadata": {
  "kernelspec": {
   "display_name": "Python 3",
   "language": "python",
   "name": "python3"
  },
  "language_info": {
   "codemirror_mode": {
    "name": "ipython",
    "version": 3
   },
   "file_extension": ".py",
   "mimetype": "text/x-python",
   "name": "python",
   "nbconvert_exporter": "python",
   "pygments_lexer": "ipython3",
   "version": "3.7.7"
  }
 },
 "nbformat": 4,
 "nbformat_minor": 4
}
