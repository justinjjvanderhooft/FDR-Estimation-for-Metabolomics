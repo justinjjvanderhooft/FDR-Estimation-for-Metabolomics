{
 "cells": [
  {
   "cell_type": "markdown",
   "metadata": {},
   "source": [
    "# Generating Test Dataset"
   ]
  },
  {
   "cell_type": "markdown",
   "metadata": {},
   "source": [
    "Function for generating random spectra."
   ]
  },
  {
   "cell_type": "markdown",
   "metadata": {},
   "source": [
    "## Setup"
   ]
  },
  {
   "cell_type": "code",
   "execution_count": 1,
   "metadata": {},
   "outputs": [],
   "source": [
    "import numpy as np\n",
    "from matchms import Spectrum"
   ]
  },
  {
   "cell_type": "code",
   "execution_count": 2,
   "metadata": {},
   "outputs": [],
   "source": [
    "#Testing\n",
    "\n",
    "\n",
    "\n",
    "#Function to generate random spectra, with a certain mz and intensity range, and a no. of peaks range.\n",
    "\n",
    "\n",
    "def generate_random_spectra(n, id_key, type_spectra, intensity_range = (0.1, 0.7), mz_range = (30, 300), peaks_range = (3, 11)):\n",
    "    \n",
    "    spectra = []\n",
    "    for i in range(n):\n",
    "        \n",
    "        no_peaks = np.random.randint(peaks_range[0], peaks_range[1])\n",
    "        intensities = np.random.uniform(intensity_range[0], intensity_range[1], no_peaks)\n",
    "        mzs = np.random.uniform(mz_range[0], mz_range[1], no_peaks)\n",
    "        mzs = np.sort(mzs)\n",
    "        inchikey = np.random.randint(0, 11)\n",
    "        spectrum = Spectrum(intensities=intensities, mz=mzs, metadata={'id': f'spectrum {i}{id_key}'})\n",
    "        if type_spectra:\n",
    "            \n",
    "            inchikey = np.random.randint(0, 16)\n",
    "            spectrum.set(\"inchikey\", f'{inchikey}')\n",
    "        spectra += [spectrum]\n",
    "    return spectra"
   ]
  }
 ],
 "metadata": {
  "kernelspec": {
   "display_name": "Python 3",
   "language": "python",
   "name": "python3"
  },
  "language_info": {
   "codemirror_mode": {
    "name": "ipython",
    "version": 3
   },
   "file_extension": ".py",
   "mimetype": "text/x-python",
   "name": "python",
   "nbconvert_exporter": "python",
   "pygments_lexer": "ipython3",
   "version": "3.7.7"
  }
 },
 "nbformat": 4,
 "nbformat_minor": 4
}
